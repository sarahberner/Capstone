{
 "cells": [
  {
   "cell_type": "markdown",
   "metadata": {},
   "source": [
    "# 1. Predicting Rarity With Just Card Data"
   ]
  },
  {
   "cell_type": "markdown",
   "metadata": {},
   "source": [
    "Question to answer here - how CONSISTENT are Hearthstone developers with their cards?\n",
    "Complaints of ramping - newly released cards are much more powerful over time. Is this true?"
   ]
  },
  {
   "cell_type": "code",
   "execution_count": 237,
   "metadata": {},
   "outputs": [],
   "source": [
    "import pandas as pd\n",
    "import numpy as np\n",
    "import matplotlib.pyplot as plt\n",
    "import seaborn as sns\n",
    "import scipy.stats as stats\n",
    "\n",
    "\n",
    "from sklearn.linear_model import LinearRegression, RidgeCV, LassoCV\n",
    "from sklearn.preprocessing import StandardScaler\n",
    "from sklearn.linear_model import LogisticRegression, LogisticRegressionCV\n",
    "from sklearn.metrics import confusion_matrix, classification_report\n",
    "from sklearn.utils.multiclass import unique_labels\n",
    "from sklearn.pipeline import Pipeline\n",
    "from sklearn.feature_extraction.text import CountVectorizer, TfidfVectorizer\n",
    "from sklearn.linear_model import LogisticRegression\n",
    "from sklearn.model_selection import train_test_split, GridSearchCV, cross_val_score\n",
    "from sklearn.naive_bayes import MultinomialNB\n",
    "from sklearn.tree import DecisionTreeClassifier\n",
    "from sklearn.ensemble import BaggingClassifier,RandomForestClassifier, ExtraTreesClassifier\n",
    "from sklearn.neighbors import KNeighborsClassifier\n",
    "\n",
    "\n",
    "from pactools.grid_search import GridSearchCVProgressBar\n",
    "import warnings\n",
    "warnings.filterwarnings(\"ignore\")\n",
    "# I know - but the gridsearchprogress bar throws a warning every second and its SO LONG.\n",
    "\n",
    "from string import punctuation\n",
    "from nltk import word_tokenize          \n",
    "from nltk.stem import WordNetLemmatizer \n",
    "\n",
    "from bs4 import BeautifulSoup\n",
    "import re\n",
    "from nltk.stem import WordNetLemmatizer\n",
    "\n",
    "\n",
    "from sklearn.feature_extraction.text import CountVectorizer, TfidfVectorizer\n",
    "from sklearn.feature_extraction.stop_words import ENGLISH_STOP_WORDS\n",
    "\n",
    "import statsmodels.tools as sm\n",
    "\n",
    "%matplotlib inline"
   ]
  },
  {
   "cell_type": "code",
   "execution_count": 238,
   "metadata": {},
   "outputs": [
    {
     "data": {
      "text/html": [
       "<div>\n",
       "<style scoped>\n",
       "    .dataframe tbody tr th:only-of-type {\n",
       "        vertical-align: middle;\n",
       "    }\n",
       "\n",
       "    .dataframe tbody tr th {\n",
       "        vertical-align: top;\n",
       "    }\n",
       "\n",
       "    .dataframe thead th {\n",
       "        text-align: right;\n",
       "    }\n",
       "</style>\n",
       "<table border=\"1\" class=\"dataframe\">\n",
       "  <thead>\n",
       "    <tr style=\"text-align: right;\">\n",
       "      <th></th>\n",
       "      <th>attack</th>\n",
       "      <th>cardId</th>\n",
       "      <th>cardSet</th>\n",
       "      <th>cost</th>\n",
       "      <th>durability</th>\n",
       "      <th>faction</th>\n",
       "      <th>health</th>\n",
       "      <th>name</th>\n",
       "      <th>playerClass</th>\n",
       "      <th>race</th>\n",
       "      <th>...</th>\n",
       "      <th>race_General</th>\n",
       "      <th>race_Mech</th>\n",
       "      <th>race_Murloc</th>\n",
       "      <th>race_Pirate</th>\n",
       "      <th>race_Totem</th>\n",
       "      <th>type_Hero</th>\n",
       "      <th>type_Minion</th>\n",
       "      <th>type_Spell</th>\n",
       "      <th>type_Weapon</th>\n",
       "      <th>rarity_value</th>\n",
       "    </tr>\n",
       "  </thead>\n",
       "  <tbody>\n",
       "    <tr>\n",
       "      <th>0</th>\n",
       "      <td>-1.0</td>\n",
       "      <td>CS2_041</td>\n",
       "      <td>Basic</td>\n",
       "      <td>0.0</td>\n",
       "      <td>-1.0</td>\n",
       "      <td>Neutral</td>\n",
       "      <td>-1.0</td>\n",
       "      <td>Ancestral Healing</td>\n",
       "      <td>Shaman</td>\n",
       "      <td>General</td>\n",
       "      <td>...</td>\n",
       "      <td>1</td>\n",
       "      <td>0</td>\n",
       "      <td>0</td>\n",
       "      <td>0</td>\n",
       "      <td>0</td>\n",
       "      <td>0</td>\n",
       "      <td>0</td>\n",
       "      <td>1</td>\n",
       "      <td>0</td>\n",
       "      <td>0</td>\n",
       "    </tr>\n",
       "    <tr>\n",
       "      <th>1</th>\n",
       "      <td>-1.0</td>\n",
       "      <td>CS2_072</td>\n",
       "      <td>Basic</td>\n",
       "      <td>0.0</td>\n",
       "      <td>-1.0</td>\n",
       "      <td>Neutral</td>\n",
       "      <td>-1.0</td>\n",
       "      <td>Backstab</td>\n",
       "      <td>Rogue</td>\n",
       "      <td>General</td>\n",
       "      <td>...</td>\n",
       "      <td>1</td>\n",
       "      <td>0</td>\n",
       "      <td>0</td>\n",
       "      <td>0</td>\n",
       "      <td>0</td>\n",
       "      <td>0</td>\n",
       "      <td>0</td>\n",
       "      <td>1</td>\n",
       "      <td>0</td>\n",
       "      <td>0</td>\n",
       "    </tr>\n",
       "    <tr>\n",
       "      <th>2</th>\n",
       "      <td>-1.0</td>\n",
       "      <td>EX1_169</td>\n",
       "      <td>Basic</td>\n",
       "      <td>0.0</td>\n",
       "      <td>-1.0</td>\n",
       "      <td>Neutral</td>\n",
       "      <td>-1.0</td>\n",
       "      <td>Innervate</td>\n",
       "      <td>Druid</td>\n",
       "      <td>General</td>\n",
       "      <td>...</td>\n",
       "      <td>1</td>\n",
       "      <td>0</td>\n",
       "      <td>0</td>\n",
       "      <td>0</td>\n",
       "      <td>0</td>\n",
       "      <td>0</td>\n",
       "      <td>0</td>\n",
       "      <td>1</td>\n",
       "      <td>0</td>\n",
       "      <td>0</td>\n",
       "    </tr>\n",
       "    <tr>\n",
       "      <th>3</th>\n",
       "      <td>-1.0</td>\n",
       "      <td>CS2_008</td>\n",
       "      <td>Basic</td>\n",
       "      <td>0.0</td>\n",
       "      <td>-1.0</td>\n",
       "      <td>Neutral</td>\n",
       "      <td>-1.0</td>\n",
       "      <td>Moonfire</td>\n",
       "      <td>Druid</td>\n",
       "      <td>General</td>\n",
       "      <td>...</td>\n",
       "      <td>1</td>\n",
       "      <td>0</td>\n",
       "      <td>0</td>\n",
       "      <td>0</td>\n",
       "      <td>0</td>\n",
       "      <td>0</td>\n",
       "      <td>0</td>\n",
       "      <td>1</td>\n",
       "      <td>0</td>\n",
       "      <td>0</td>\n",
       "    </tr>\n",
       "    <tr>\n",
       "      <th>4</th>\n",
       "      <td>-1.0</td>\n",
       "      <td>NEW1_003</td>\n",
       "      <td>Basic</td>\n",
       "      <td>0.0</td>\n",
       "      <td>-1.0</td>\n",
       "      <td>Neutral</td>\n",
       "      <td>-1.0</td>\n",
       "      <td>Sacrificial Pact</td>\n",
       "      <td>Warlock</td>\n",
       "      <td>General</td>\n",
       "      <td>...</td>\n",
       "      <td>1</td>\n",
       "      <td>0</td>\n",
       "      <td>0</td>\n",
       "      <td>0</td>\n",
       "      <td>0</td>\n",
       "      <td>0</td>\n",
       "      <td>0</td>\n",
       "      <td>1</td>\n",
       "      <td>0</td>\n",
       "      <td>0</td>\n",
       "    </tr>\n",
       "  </tbody>\n",
       "</table>\n",
       "<p>5 rows × 91 columns</p>\n",
       "</div>"
      ],
      "text/plain": [
       "   attack    cardId cardSet  cost  durability  faction  health  \\\n",
       "0    -1.0   CS2_041   Basic   0.0        -1.0  Neutral    -1.0   \n",
       "1    -1.0   CS2_072   Basic   0.0        -1.0  Neutral    -1.0   \n",
       "2    -1.0   EX1_169   Basic   0.0        -1.0  Neutral    -1.0   \n",
       "3    -1.0   CS2_008   Basic   0.0        -1.0  Neutral    -1.0   \n",
       "4    -1.0  NEW1_003   Basic   0.0        -1.0  Neutral    -1.0   \n",
       "\n",
       "                name playerClass     race      ...      race_General  \\\n",
       "0  Ancestral Healing      Shaman  General      ...                 1   \n",
       "1           Backstab       Rogue  General      ...                 1   \n",
       "2          Innervate       Druid  General      ...                 1   \n",
       "3           Moonfire       Druid  General      ...                 1   \n",
       "4   Sacrificial Pact     Warlock  General      ...                 1   \n",
       "\n",
       "  race_Mech race_Murloc  race_Pirate  race_Totem  type_Hero  type_Minion  \\\n",
       "0         0           0            0           0          0            0   \n",
       "1         0           0            0           0          0            0   \n",
       "2         0           0            0           0          0            0   \n",
       "3         0           0            0           0          0            0   \n",
       "4         0           0            0           0          0            0   \n",
       "\n",
       "   type_Spell  type_Weapon  rarity_value  \n",
       "0           1            0             0  \n",
       "1           1            0             0  \n",
       "2           1            0             0  \n",
       "3           1            0             0  \n",
       "4           1            0             0  \n",
       "\n",
       "[5 rows x 91 columns]"
      ]
     },
     "execution_count": 238,
     "metadata": {},
     "output_type": "execute_result"
    }
   ],
   "source": [
    "df = pd.read_csv('dummies_df_card_list.csv')\n",
    "df.head()"
   ]
  },
  {
   "cell_type": "code",
   "execution_count": 239,
   "metadata": {},
   "outputs": [
    {
     "data": {
      "text/plain": [
       "['attack',\n",
       " 'cardId',\n",
       " 'cardSet',\n",
       " 'cost',\n",
       " 'durability',\n",
       " 'faction',\n",
       " 'health',\n",
       " 'name',\n",
       " 'playerClass',\n",
       " 'race',\n",
       " 'rarity',\n",
       " 'text',\n",
       " 'type',\n",
       " 'armor',\n",
       " 'mech_Adapt',\n",
       " 'mech_AdjacentBuff',\n",
       " 'mech_AffectedBySpellPower',\n",
       " 'mech_Aura',\n",
       " 'mech_Battlecry',\n",
       " 'mech_Charge',\n",
       " 'mech_Combo',\n",
       " 'mech_Deathrattle',\n",
       " 'mech_Discover',\n",
       " 'mech_Divine Shield',\n",
       " 'mech_Echo',\n",
       " 'mech_Freeze',\n",
       " 'mech_ImmuneToSpellpower',\n",
       " 'mech_Inspire',\n",
       " 'mech_InvisibleDeathrattle',\n",
       " 'mech_Jade Golem',\n",
       " 'mech_Lifesteal',\n",
       " 'mech_Magnetic',\n",
       " 'mech_Overkill',\n",
       " 'mech_Overload',\n",
       " 'mech_Poisonous',\n",
       " 'mech_Quest',\n",
       " 'mech_Recruit',\n",
       " 'mech_Rush',\n",
       " 'mech_Secret',\n",
       " 'mech_Silence',\n",
       " 'mech_Spell Damage',\n",
       " 'mech_Stealth',\n",
       " 'mech_Taunt',\n",
       " 'mech_Twinspell',\n",
       " 'mech_Windfury',\n",
       " 'cardset_Basic',\n",
       " 'cardset_Blackrock Mountain',\n",
       " 'cardset_Classic',\n",
       " 'cardset_Goblins vs Gnomes',\n",
       " 'cardset_Hall of Fame',\n",
       " \"cardset_Journey to Un'Goro\",\n",
       " 'cardset_Knights of the Frozen Throne',\n",
       " 'cardset_Kobolds & Catacombs',\n",
       " 'cardset_Mean Streets of Gadgetzan',\n",
       " 'cardset_Naxxramas',\n",
       " 'cardset_One Night in Karazhan',\n",
       " \"cardset_Rastakhan's Rumble\",\n",
       " 'cardset_Rise of Shadows',\n",
       " 'cardset_The Boomsday Project',\n",
       " 'cardset_The Grand Tournament',\n",
       " 'cardset_The League of Explorers',\n",
       " 'cardset_The Witchwood',\n",
       " 'cardset_Whispers of the Old Gods',\n",
       " 'faction_Alliance',\n",
       " 'faction_Horde',\n",
       " 'faction_Neutral',\n",
       " 'playerclass_Druid',\n",
       " 'playerclass_Hunter',\n",
       " 'playerclass_Mage',\n",
       " 'playerclass_Neutral',\n",
       " 'playerclass_Paladin',\n",
       " 'playerclass_Priest',\n",
       " 'playerclass_Rogue',\n",
       " 'playerclass_Shaman',\n",
       " 'playerclass_Warlock',\n",
       " 'playerclass_Warrior',\n",
       " 'race_All',\n",
       " 'race_Beast',\n",
       " 'race_Demon',\n",
       " 'race_Dragon',\n",
       " 'race_Elemental',\n",
       " 'race_General',\n",
       " 'race_Mech',\n",
       " 'race_Murloc',\n",
       " 'race_Pirate',\n",
       " 'race_Totem',\n",
       " 'type_Hero',\n",
       " 'type_Minion',\n",
       " 'type_Spell',\n",
       " 'type_Weapon',\n",
       " 'rarity_value']"
      ]
     },
     "execution_count": 239,
     "metadata": {},
     "output_type": "execute_result"
    }
   ],
   "source": [
    "list(df.columns)\n"
   ]
  },
  {
   "cell_type": "markdown",
   "metadata": {},
   "source": [
    "## Linear Regression Model"
   ]
  },
  {
   "cell_type": "markdown",
   "metadata": {},
   "source": [
    "Linear Regression on raw data:"
   ]
  },
  {
   "cell_type": "code",
   "execution_count": 240,
   "metadata": {},
   "outputs": [],
   "source": [
    "numerical_columns = df._get_numeric_data().columns\n",
    "features = [c for c in numerical_columns if c != 'rarity_value']\n",
    "X = df[features]\n",
    "y = df['rarity_value']\n",
    "\n",
    "X = sm.add_constant(X)"
   ]
  },
  {
   "cell_type": "code",
   "execution_count": 241,
   "metadata": {},
   "outputs": [],
   "source": [
    "X_train, X_test, y_train, y_test = train_test_split(X, y, random_state = 42)"
   ]
  },
  {
   "cell_type": "code",
   "execution_count": 242,
   "metadata": {},
   "outputs": [],
   "source": [
    "lr = LinearRegression()\n",
    "model_1 = lr.fit(X_train, y_train)"
   ]
  },
  {
   "cell_type": "code",
   "execution_count": 243,
   "metadata": {},
   "outputs": [
    {
     "data": {
      "image/png": "[encoded data removed]",
      "text/plain": [
       "<Figure size 576x576 with 1 Axes>"
      ]
     },
     "metadata": {},
     "output_type": "display_data"
    }
   ],
   "source": [
    "plt.figure(figsize=(8,8))\n",
    "plt.scatter(y =  model_1.predict(X_test), x = y_test)\n",
    "plt.title('Predictions vs True Values', fontsize = 20)\n",
    "plt.xlabel('True Rarity')\n",
    "plt.ylabel('Predicted Rarity')\n",
    "plt.plot([0, np.max(y)], [0, np.max(y)], c = 'k');"
   ]
  },
  {
   "cell_type": "code",
   "execution_count": 244,
   "metadata": {},
   "outputs": [
    {
     "name": "stdout",
     "output_type": "stream",
     "text": [
      "Train Score: 0.45344492113491286\n",
      "Test Score: 0.3663278022653662\n"
     ]
    }
   ],
   "source": [
    "print('Train Score:', model_1.score(X_train,y_train))\n",
    "print('Test Score:', model_1.score(X_test,y_test))"
   ]
  },
  {
   "cell_type": "markdown",
   "metadata": {},
   "source": [
    "Linear Regression on Transformed Data:"
   ]
  },
  {
   "cell_type": "code",
   "execution_count": 245,
   "metadata": {},
   "outputs": [],
   "source": [
    "ss = StandardScaler()\n",
    "X_train_scaled = ss.fit_transform(X_train)\n",
    "X_test_scaled = ss.transform(X_test)\n"
   ]
  },
  {
   "cell_type": "code",
   "execution_count": 246,
   "metadata": {},
   "outputs": [],
   "source": [
    "model_2 = lr.fit(X_train_scaled, y_train)"
   ]
  },
  {
   "cell_type": "code",
   "execution_count": 247,
   "metadata": {},
   "outputs": [
    {
     "name": "stdout",
     "output_type": "stream",
     "text": [
      "Train Score: 0.4505547924265545\n",
      "Test Score: 0.35886023791517585\n"
     ]
    }
   ],
   "source": [
    "print('Train Score:', model_2.score(X_train_scaled,y_train))\n",
    "print('Test Score:', model_2.score(X_test_scaled,y_test))"
   ]
  },
  {
   "cell_type": "code",
   "execution_count": 248,
   "metadata": {},
   "outputs": [
    {
     "data": {
      "image/png": "[encoded data removed]",
      "text/plain": [
       "<Figure size 576x576 with 1 Axes>"
      ]
     },
     "metadata": {},
     "output_type": "display_data"
    }
   ],
   "source": [
    "plt.figure(figsize=(8,8))\n",
    "plt.scatter(y = model_2.predict(X_test_scaled), x = y_test)\n",
    "plt.title('Predictions vs True Values', fontsize = 20)\n",
    "plt.xlabel('True MedianPrice')\n",
    "plt.ylabel('Prediction MedianPrice')\n",
    "plt.plot([0, np.max(y)], [0, np.max(y)], c = 'k');"
   ]
  },
  {
   "cell_type": "markdown",
   "metadata": {},
   "source": [
    "Let's quickly take a glance at some of the determining coeffients for this simple model:"
   ]
  },
  {
   "cell_type": "code",
   "execution_count": 249,
   "metadata": {},
   "outputs": [
    {
     "data": {
      "text/plain": [
       "(82, 1)"
      ]
     },
     "execution_count": 249,
     "metadata": {},
     "output_type": "execute_result"
    }
   ],
   "source": [
    "model_2_coef_df = pd.DataFrame(model_2.coef_,\n",
    "                       columns =['coef'])\n",
    "\n",
    "model_2_coef_df.shape"
   ]
  },
  {
   "cell_type": "code",
   "execution_count": 250,
   "metadata": {},
   "outputs": [
    {
     "data": {
      "text/plain": [
       "(82, 1)"
      ]
     },
     "execution_count": 250,
     "metadata": {},
     "output_type": "execute_result"
    }
   ],
   "source": [
    "features_temp = ['constant'] + features\n",
    "\n",
    "\n",
    "featuresdf = pd.DataFrame(features_temp,\n",
    "                      columns = ['feature'])\n",
    "\n",
    "featuresdf.shape"
   ]
  },
  {
   "cell_type": "code",
   "execution_count": 251,
   "metadata": {},
   "outputs": [
    {
     "data": {
      "text/html": [
       "<div>\n",
       "<style scoped>\n",
       "    .dataframe tbody tr th:only-of-type {\n",
       "        vertical-align: middle;\n",
       "    }\n",
       "\n",
       "    .dataframe tbody tr th {\n",
       "        vertical-align: top;\n",
       "    }\n",
       "\n",
       "    .dataframe thead th {\n",
       "        text-align: right;\n",
       "    }\n",
       "</style>\n",
       "<table border=\"1\" class=\"dataframe\">\n",
       "  <thead>\n",
       "    <tr style=\"text-align: right;\">\n",
       "      <th></th>\n",
       "      <th>coef</th>\n",
       "      <th>feature</th>\n",
       "    </tr>\n",
       "  </thead>\n",
       "  <tbody>\n",
       "    <tr>\n",
       "      <th>79</th>\n",
       "      <td>-1.872582e+13</td>\n",
       "      <td>type_Minion</td>\n",
       "    </tr>\n",
       "    <tr>\n",
       "      <th>80</th>\n",
       "      <td>-1.797357e+13</td>\n",
       "      <td>type_Spell</td>\n",
       "    </tr>\n",
       "    <tr>\n",
       "      <th>39</th>\n",
       "      <td>-8.741562e+12</td>\n",
       "      <td>cardset_Classic</td>\n",
       "    </tr>\n",
       "    <tr>\n",
       "      <th>73</th>\n",
       "      <td>-8.254444e+12</td>\n",
       "      <td>race_General</td>\n",
       "    </tr>\n",
       "    <tr>\n",
       "      <th>81</th>\n",
       "      <td>-7.620753e+12</td>\n",
       "      <td>type_Weapon</td>\n",
       "    </tr>\n",
       "    <tr>\n",
       "      <th>42</th>\n",
       "      <td>-7.248178e+12</td>\n",
       "      <td>cardset_Journey to Un'Goro</td>\n",
       "    </tr>\n",
       "    <tr>\n",
       "      <th>48</th>\n",
       "      <td>-7.097272e+12</td>\n",
       "      <td>cardset_Rastakhan's Rumble</td>\n",
       "    </tr>\n",
       "    <tr>\n",
       "      <th>54</th>\n",
       "      <td>-7.066561e+12</td>\n",
       "      <td>cardset_Whispers of the Old Gods</td>\n",
       "    </tr>\n",
       "    <tr>\n",
       "      <th>37</th>\n",
       "      <td>-7.004590e+12</td>\n",
       "      <td>cardset_Basic</td>\n",
       "    </tr>\n",
       "    <tr>\n",
       "      <th>50</th>\n",
       "      <td>-6.941871e+12</td>\n",
       "      <td>cardset_The Boomsday Project</td>\n",
       "    </tr>\n",
       "    <tr>\n",
       "      <th>49</th>\n",
       "      <td>-6.910225e+12</td>\n",
       "      <td>cardset_Rise of Shadows</td>\n",
       "    </tr>\n",
       "    <tr>\n",
       "      <th>43</th>\n",
       "      <td>-6.878385e+12</td>\n",
       "      <td>cardset_Knights of the Frozen Throne</td>\n",
       "    </tr>\n",
       "    <tr>\n",
       "      <th>44</th>\n",
       "      <td>-6.846347e+12</td>\n",
       "      <td>cardset_Kobolds &amp; Catacombs</td>\n",
       "    </tr>\n",
       "    <tr>\n",
       "      <th>53</th>\n",
       "      <td>-6.749020e+12</td>\n",
       "      <td>cardset_The Witchwood</td>\n",
       "    </tr>\n",
       "    <tr>\n",
       "      <th>51</th>\n",
       "      <td>-6.683096e+12</td>\n",
       "      <td>cardset_The Grand Tournament</td>\n",
       "    </tr>\n",
       "    <tr>\n",
       "      <th>45</th>\n",
       "      <td>-6.649813e+12</td>\n",
       "      <td>cardset_Mean Streets of Gadgetzan</td>\n",
       "    </tr>\n",
       "    <tr>\n",
       "      <th>40</th>\n",
       "      <td>-6.375391e+12</td>\n",
       "      <td>cardset_Goblins vs Gnomes</td>\n",
       "    </tr>\n",
       "    <tr>\n",
       "      <th>69</th>\n",
       "      <td>-5.141510e+12</td>\n",
       "      <td>race_Beast</td>\n",
       "    </tr>\n",
       "    <tr>\n",
       "      <th>47</th>\n",
       "      <td>-4.162570e+12</td>\n",
       "      <td>cardset_One Night in Karazhan</td>\n",
       "    </tr>\n",
       "    <tr>\n",
       "      <th>52</th>\n",
       "      <td>-4.162570e+12</td>\n",
       "      <td>cardset_The League of Explorers</td>\n",
       "    </tr>\n",
       "    <tr>\n",
       "      <th>74</th>\n",
       "      <td>-4.103482e+12</td>\n",
       "      <td>race_Mech</td>\n",
       "    </tr>\n",
       "    <tr>\n",
       "      <th>72</th>\n",
       "      <td>-3.725642e+12</td>\n",
       "      <td>race_Elemental</td>\n",
       "    </tr>\n",
       "    <tr>\n",
       "      <th>38</th>\n",
       "      <td>-3.598672e+12</td>\n",
       "      <td>cardset_Blackrock Mountain</td>\n",
       "    </tr>\n",
       "    <tr>\n",
       "      <th>46</th>\n",
       "      <td>-3.162653e+12</td>\n",
       "      <td>cardset_Naxxramas</td>\n",
       "    </tr>\n",
       "    <tr>\n",
       "      <th>41</th>\n",
       "      <td>-2.918772e+12</td>\n",
       "      <td>cardset_Hall of Fame</td>\n",
       "    </tr>\n",
       "    <tr>\n",
       "      <th>70</th>\n",
       "      <td>-2.834467e+12</td>\n",
       "      <td>race_Demon</td>\n",
       "    </tr>\n",
       "    <tr>\n",
       "      <th>71</th>\n",
       "      <td>-2.749101e+12</td>\n",
       "      <td>race_Dragon</td>\n",
       "    </tr>\n",
       "    <tr>\n",
       "      <th>78</th>\n",
       "      <td>-2.739614e+12</td>\n",
       "      <td>type_Hero</td>\n",
       "    </tr>\n",
       "    <tr>\n",
       "      <th>75</th>\n",
       "      <td>-2.615359e+12</td>\n",
       "      <td>race_Murloc</td>\n",
       "    </tr>\n",
       "    <tr>\n",
       "      <th>76</th>\n",
       "      <td>-2.216372e+12</td>\n",
       "      <td>race_Pirate</td>\n",
       "    </tr>\n",
       "    <tr>\n",
       "      <th>...</th>\n",
       "      <td>...</td>\n",
       "      <td>...</td>\n",
       "    </tr>\n",
       "    <tr>\n",
       "      <th>18</th>\n",
       "      <td>1.150812e-02</td>\n",
       "      <td>mech_ImmuneToSpellpower</td>\n",
       "    </tr>\n",
       "    <tr>\n",
       "      <th>29</th>\n",
       "      <td>1.303679e-02</td>\n",
       "      <td>mech_Rush</td>\n",
       "    </tr>\n",
       "    <tr>\n",
       "      <th>31</th>\n",
       "      <td>1.452128e-02</td>\n",
       "      <td>mech_Silence</td>\n",
       "    </tr>\n",
       "    <tr>\n",
       "      <th>8</th>\n",
       "      <td>2.189532e-02</td>\n",
       "      <td>mech_AffectedBySpellPower</td>\n",
       "    </tr>\n",
       "    <tr>\n",
       "      <th>9</th>\n",
       "      <td>2.690499e-02</td>\n",
       "      <td>mech_Aura</td>\n",
       "    </tr>\n",
       "    <tr>\n",
       "      <th>23</th>\n",
       "      <td>3.157138e-02</td>\n",
       "      <td>mech_Magnetic</td>\n",
       "    </tr>\n",
       "    <tr>\n",
       "      <th>14</th>\n",
       "      <td>3.184829e-02</td>\n",
       "      <td>mech_Discover</td>\n",
       "    </tr>\n",
       "    <tr>\n",
       "      <th>1</th>\n",
       "      <td>4.345444e-02</td>\n",
       "      <td>attack</td>\n",
       "    </tr>\n",
       "    <tr>\n",
       "      <th>13</th>\n",
       "      <td>4.589280e-02</td>\n",
       "      <td>mech_Deathrattle</td>\n",
       "    </tr>\n",
       "    <tr>\n",
       "      <th>10</th>\n",
       "      <td>9.236885e-02</td>\n",
       "      <td>mech_Battlecry</td>\n",
       "    </tr>\n",
       "    <tr>\n",
       "      <th>5</th>\n",
       "      <td>1.005678e-01</td>\n",
       "      <td>armor</td>\n",
       "    </tr>\n",
       "    <tr>\n",
       "      <th>20</th>\n",
       "      <td>1.008522e-01</td>\n",
       "      <td>mech_InvisibleDeathrattle</td>\n",
       "    </tr>\n",
       "    <tr>\n",
       "      <th>3</th>\n",
       "      <td>1.112039e-01</td>\n",
       "      <td>durability</td>\n",
       "    </tr>\n",
       "    <tr>\n",
       "      <th>4</th>\n",
       "      <td>1.593183e-01</td>\n",
       "      <td>health</td>\n",
       "    </tr>\n",
       "    <tr>\n",
       "      <th>27</th>\n",
       "      <td>1.821848e-01</td>\n",
       "      <td>mech_Quest</td>\n",
       "    </tr>\n",
       "    <tr>\n",
       "      <th>2</th>\n",
       "      <td>3.996212e-01</td>\n",
       "      <td>cost</td>\n",
       "    </tr>\n",
       "    <tr>\n",
       "      <th>0</th>\n",
       "      <td>7.195426e+08</td>\n",
       "      <td>constant</td>\n",
       "    </tr>\n",
       "    <tr>\n",
       "      <th>58</th>\n",
       "      <td>7.448517e+12</td>\n",
       "      <td>playerclass_Druid</td>\n",
       "    </tr>\n",
       "    <tr>\n",
       "      <th>64</th>\n",
       "      <td>7.483373e+12</td>\n",
       "      <td>playerclass_Rogue</td>\n",
       "    </tr>\n",
       "    <tr>\n",
       "      <th>60</th>\n",
       "      <td>7.483373e+12</td>\n",
       "      <td>playerclass_Mage</td>\n",
       "    </tr>\n",
       "    <tr>\n",
       "      <th>66</th>\n",
       "      <td>7.620678e+12</td>\n",
       "      <td>playerclass_Warlock</td>\n",
       "    </tr>\n",
       "    <tr>\n",
       "      <th>63</th>\n",
       "      <td>7.654489e+12</td>\n",
       "      <td>playerclass_Priest</td>\n",
       "    </tr>\n",
       "    <tr>\n",
       "      <th>67</th>\n",
       "      <td>7.654489e+12</td>\n",
       "      <td>playerclass_Warrior</td>\n",
       "    </tr>\n",
       "    <tr>\n",
       "      <th>62</th>\n",
       "      <td>7.721512e+12</td>\n",
       "      <td>playerclass_Paladin</td>\n",
       "    </tr>\n",
       "    <tr>\n",
       "      <th>65</th>\n",
       "      <td>7.721512e+12</td>\n",
       "      <td>playerclass_Shaman</td>\n",
       "    </tr>\n",
       "    <tr>\n",
       "      <th>59</th>\n",
       "      <td>7.754729e+12</td>\n",
       "      <td>playerclass_Hunter</td>\n",
       "    </tr>\n",
       "    <tr>\n",
       "      <th>61</th>\n",
       "      <td>1.455193e+13</td>\n",
       "      <td>playerclass_Neutral</td>\n",
       "    </tr>\n",
       "    <tr>\n",
       "      <th>56</th>\n",
       "      <td>1.556339e+13</td>\n",
       "      <td>faction_Horde</td>\n",
       "    </tr>\n",
       "    <tr>\n",
       "      <th>55</th>\n",
       "      <td>1.938538e+13</td>\n",
       "      <td>faction_Alliance</td>\n",
       "    </tr>\n",
       "    <tr>\n",
       "      <th>57</th>\n",
       "      <td>2.462155e+13</td>\n",
       "      <td>faction_Neutral</td>\n",
       "    </tr>\n",
       "  </tbody>\n",
       "</table>\n",
       "<p>82 rows × 2 columns</p>\n",
       "</div>"
      ],
      "text/plain": [
       "            coef                               feature\n",
       "79 -1.872582e+13                           type_Minion\n",
       "80 -1.797357e+13                            type_Spell\n",
       "39 -8.741562e+12                       cardset_Classic\n",
       "73 -8.254444e+12                          race_General\n",
       "81 -7.620753e+12                           type_Weapon\n",
       "42 -7.248178e+12            cardset_Journey to Un'Goro\n",
       "48 -7.097272e+12            cardset_Rastakhan's Rumble\n",
       "54 -7.066561e+12      cardset_Whispers of the Old Gods\n",
       "37 -7.004590e+12                         cardset_Basic\n",
       "50 -6.941871e+12          cardset_The Boomsday Project\n",
       "49 -6.910225e+12               cardset_Rise of Shadows\n",
       "43 -6.878385e+12  cardset_Knights of the Frozen Throne\n",
       "44 -6.846347e+12           cardset_Kobolds & Catacombs\n",
       "53 -6.749020e+12                 cardset_The Witchwood\n",
       "51 -6.683096e+12          cardset_The Grand Tournament\n",
       "45 -6.649813e+12     cardset_Mean Streets of Gadgetzan\n",
       "40 -6.375391e+12             cardset_Goblins vs Gnomes\n",
       "69 -5.141510e+12                            race_Beast\n",
       "47 -4.162570e+12         cardset_One Night in Karazhan\n",
       "52 -4.162570e+12       cardset_The League of Explorers\n",
       "74 -4.103482e+12                             race_Mech\n",
       "72 -3.725642e+12                        race_Elemental\n",
       "38 -3.598672e+12            cardset_Blackrock Mountain\n",
       "46 -3.162653e+12                     cardset_Naxxramas\n",
       "41 -2.918772e+12                  cardset_Hall of Fame\n",
       "70 -2.834467e+12                            race_Demon\n",
       "71 -2.749101e+12                           race_Dragon\n",
       "78 -2.739614e+12                             type_Hero\n",
       "75 -2.615359e+12                           race_Murloc\n",
       "76 -2.216372e+12                           race_Pirate\n",
       "..           ...                                   ...\n",
       "18  1.150812e-02               mech_ImmuneToSpellpower\n",
       "29  1.303679e-02                             mech_Rush\n",
       "31  1.452128e-02                          mech_Silence\n",
       "8   2.189532e-02             mech_AffectedBySpellPower\n",
       "9   2.690499e-02                             mech_Aura\n",
       "23  3.157138e-02                         mech_Magnetic\n",
       "14  3.184829e-02                         mech_Discover\n",
       "1   4.345444e-02                                attack\n",
       "13  4.589280e-02                      mech_Deathrattle\n",
       "10  9.236885e-02                        mech_Battlecry\n",
       "5   1.005678e-01                                 armor\n",
       "20  1.008522e-01             mech_InvisibleDeathrattle\n",
       "3   1.112039e-01                            durability\n",
       "4   1.593183e-01                                health\n",
       "27  1.821848e-01                            mech_Quest\n",
       "2   3.996212e-01                                  cost\n",
       "0   7.195426e+08                              constant\n",
       "58  7.448517e+12                     playerclass_Druid\n",
       "64  7.483373e+12                     playerclass_Rogue\n",
       "60  7.483373e+12                      playerclass_Mage\n",
       "66  7.620678e+12                   playerclass_Warlock\n",
       "63  7.654489e+12                    playerclass_Priest\n",
       "67  7.654489e+12                   playerclass_Warrior\n",
       "62  7.721512e+12                   playerclass_Paladin\n",
       "65  7.721512e+12                    playerclass_Shaman\n",
       "59  7.754729e+12                    playerclass_Hunter\n",
       "61  1.455193e+13                   playerclass_Neutral\n",
       "56  1.556339e+13                         faction_Horde\n",
       "55  1.938538e+13                      faction_Alliance\n",
       "57  2.462155e+13                       faction_Neutral\n",
       "\n",
       "[82 rows x 2 columns]"
      ]
     },
     "execution_count": 251,
     "metadata": {},
     "output_type": "execute_result"
    }
   ],
   "source": [
    "pd.concat([model_2_coef_df, featuresdf], axis = 1).sort_values('coef')"
   ]
  },
  {
   "cell_type": "markdown",
   "metadata": {},
   "source": [
    "Well that was fun to play around with and to get SOMETHING - but really this model is not telling us much at all, even looking at the coefficients. Let's get a multiclass classification model in here - maybe even a feed forward neural network!"
   ]
  },
  {
   "cell_type": "markdown",
   "metadata": {},
   "source": [
    "## Logistic Regression - Multiclass"
   ]
  },
  {
   "cell_type": "code",
   "execution_count": 252,
   "metadata": {},
   "outputs": [
    {
     "data": {
      "text/plain": [
       "1    713\n",
       "2    519\n",
       "3    339\n",
       "4    299\n",
       "0    133\n",
       "Name: rarity_value, dtype: int64"
      ]
     },
     "execution_count": 252,
     "metadata": {},
     "output_type": "execute_result"
    }
   ],
   "source": [
    "#Baseline:\n",
    "y.value_counts()\n",
    "#unbalanced class - something to consider!"
   ]
  },
  {
   "cell_type": "code",
   "execution_count": 253,
   "metadata": {},
   "outputs": [],
   "source": [
    "logr = LogisticRegression()\n",
    "ss = StandardScaler()\n",
    "\n",
    "X_train, X_test, y_train, y_test  = train_test_split(X, y, random_state = 42, stratify = y)\n",
    "\n",
    "X_train_scaled = ss.fit_transform(X_train)\n",
    "X_test_scaled = ss.transform(X_test)"
   ]
  },
  {
   "cell_type": "code",
   "execution_count": 254,
   "metadata": {},
   "outputs": [
    {
     "data": {
      "text/plain": [
       "1    178\n",
       "2    130\n",
       "3     85\n",
       "4     75\n",
       "0     33\n",
       "Name: rarity_value, dtype: int64"
      ]
     },
     "execution_count": 254,
     "metadata": {},
     "output_type": "execute_result"
    }
   ],
   "source": [
    "y_test.value_counts()"
   ]
  },
  {
   "cell_type": "code",
   "execution_count": 255,
   "metadata": {},
   "outputs": [],
   "source": [
    "model_3 = logr.fit(X_train_scaled, y_train)"
   ]
  },
  {
   "cell_type": "code",
   "execution_count": 256,
   "metadata": {},
   "outputs": [
    {
     "name": "stdout",
     "output_type": "stream",
     "text": [
      "LogReg score on Train: 0.5692410119840213\n",
      "LogReg score on Test: 0.499001996007984\n"
     ]
    }
   ],
   "source": [
    "print('LogReg score on Train:', model_3.score(X_train_scaled, y_train))\n",
    "print('LogReg score on Test:', model_3.score(X_test_scaled, y_test))"
   ]
  },
  {
   "cell_type": "code",
   "execution_count": 257,
   "metadata": {},
   "outputs": [
    {
     "data": {
      "image/png": "[encoded data removed]",
      "text/plain": [
       "<Figure size 576x576 with 1 Axes>"
      ]
     },
     "metadata": {},
     "output_type": "display_data"
    }
   ],
   "source": [
    "plt.figure(figsize=(8,8))\n",
    "plt.scatter(y = model_3.predict(X_test_scaled), x = y_test)\n",
    "plt.title('Predictions vs True Values', fontsize = 20)\n",
    "plt.xlabel('True MedianPrice')\n",
    "plt.ylabel('Prediction MedianPrice')\n",
    "plt.plot([0, np.max(y)], [0, np.max(y)], c = 'k');\n",
    "\n",
    "# lol useless - lets look at a confusion matrix!"
   ]
  },
  {
   "cell_type": "code",
   "execution_count": 261,
   "metadata": {},
   "outputs": [
    {
     "data": {
      "text/plain": [
       "Text(0.5,1,'Confusion Matrix')"
      ]
     },
     "execution_count": 261,
     "metadata": {},
     "output_type": "execute_result"
    },
    {
     "data": {
      "image/png": "[encoded data removed]",
      "text/plain": [
       "<Figure size 432x288 with 2 Axes>"
      ]
     },
     "metadata": {},
     "output_type": "display_data"
    }
   ],
   "source": [
    "y_true = y_test\n",
    "y_pred = model_3.predict(X_test_scaled)\n",
    "\n",
    "sns.heatmap(confusion_matrix(y_true, y_pred),\n",
    "           annot = True, fmt = 'd', )\n",
    "plt.xlabel('Predicted')\n",
    "plt.ylabel('Actual')\n",
    "plt.title('Confusion Matrix')"
   ]
  },
  {
   "cell_type": "code",
   "execution_count": 264,
   "metadata": {},
   "outputs": [
    {
     "name": "stdout",
     "output_type": "stream",
     "text": [
      "Train Accuracy: 0.5692410119840213\n",
      "Test Accuracy: 0.499001996007984\n"
     ]
    },
    {
     "data": {
      "image/png": "[encoded data removed]",
      "text/plain": [
       "<Figure size 432x288 with 2 Axes>"
      ]
     },
     "metadata": {},
     "output_type": "display_data"
    }
   ],
   "source": [
    "sns.heatmap(confusion_matrix(y_true, y_pred).astype('float') / confusion_matrix(y_true, y_pred).sum(axis=1)[:, np.newaxis],\n",
    "           annot = True, fmt = '.2f', )\n",
    "plt.xlabel('Predicted')\n",
    "plt.ylabel('Actual')\n",
    "plt.title('Confusion Matrix - Normalized')\n",
    "\n",
    "print('Train Accuracy:', model_3.score(X_train_scaled, y_train))\n",
    "print('Test Accuracy:', model_3.score(X_test_scaled, y_test))\n",
    "\n"
   ]
  },
  {
   "cell_type": "code",
   "execution_count": 275,
   "metadata": {},
   "outputs": [
    {
     "data": {
      "text/plain": [
       "array([ 0.00e+00,  2.32e-02, -3.62e-02, -2.62e-03, -2.89e-02,  3.39e-03,\n",
       "       -1.14e-02,  2.24e-02, -2.10e-02,  1.73e-02, -2.67e-02,  3.07e-02,\n",
       "       -1.39e-02, -4.29e-02, -2.51e-02, -1.88e-02, -2.18e-02,  1.00e-03,\n",
       "        6.41e-03, -1.23e-02, -7.59e-03, -9.66e-03, -1.89e-02,  1.02e-03,\n",
       "       -9.47e-03, -2.08e-02, -1.53e-02, -1.67e-02, -5.45e-03, -1.22e-02,\n",
       "       -3.61e-02, -2.20e-02,  1.63e-02, -2.98e-02,  2.10e-02, -1.67e-02,\n",
       "        4.77e-04,  2.59e+00, -8.82e-02, -2.70e-01, -1.72e-01, -8.59e-02,\n",
       "       -1.86e-01, -1.82e-01, -1.87e-01, -1.85e-01, -8.16e-02, -1.06e-01,\n",
       "       -1.66e-01, -1.83e-01, -1.82e-01, -1.87e-01, -1.04e-01, -1.78e-01,\n",
       "       -1.88e-01,  1.64e-02,  5.84e-02, -4.75e-02, -2.02e-03,  4.01e-03,\n",
       "       -1.33e-02,  9.10e-03,  4.72e-03,  1.46e-03,  2.33e-03, -9.92e-03,\n",
       "       -8.36e-03,  4.33e-03, -4.10e-03,  1.01e-02, -8.19e-03, -3.68e-03,\n",
       "       -8.94e-03,  5.76e-03, -1.96e-02,  2.53e-02, -1.16e-02,  1.74e-02,\n",
       "        9.29e-03, -4.02e-02,  3.92e-02,  2.11e-03])"
      ]
     },
     "execution_count": 275,
     "metadata": {},
     "output_type": "execute_result"
    }
   ],
   "source": [
    "# THESE ARE THE COEFFICIENTS THAT PREDICT THE 0 CLASS! :O\n",
    "model_3.coef_[0]"
   ]
  },
  {
   "cell_type": "code",
   "execution_count": 278,
   "metadata": {},
   "outputs": [
    {
     "data": {
      "text/plain": [
       "82"
      ]
     },
     "execution_count": 278,
     "metadata": {},
     "output_type": "execute_result"
    }
   ],
   "source": [
    "len(X.columns)"
   ]
  },
  {
   "cell_type": "code",
   "execution_count": 284,
   "metadata": {},
   "outputs": [
    {
     "data": {
      "text/html": [
       "<div>\n",
       "<style scoped>\n",
       "    .dataframe tbody tr th:only-of-type {\n",
       "        vertical-align: middle;\n",
       "    }\n",
       "\n",
       "    .dataframe tbody tr th {\n",
       "        vertical-align: top;\n",
       "    }\n",
       "\n",
       "    .dataframe thead th {\n",
       "        text-align: right;\n",
       "    }\n",
       "</style>\n",
       "<table border=\"1\" class=\"dataframe\">\n",
       "  <thead>\n",
       "    <tr style=\"text-align: right;\">\n",
       "      <th></th>\n",
       "      <th>coef</th>\n",
       "      <th>feature</th>\n",
       "    </tr>\n",
       "  </thead>\n",
       "  <tbody>\n",
       "    <tr>\n",
       "      <th>37</th>\n",
       "      <td>2.585011</td>\n",
       "      <td>cardset_Basic</td>\n",
       "    </tr>\n",
       "    <tr>\n",
       "      <th>56</th>\n",
       "      <td>0.058437</td>\n",
       "      <td>faction_Horde</td>\n",
       "    </tr>\n",
       "    <tr>\n",
       "      <th>80</th>\n",
       "      <td>0.039245</td>\n",
       "      <td>type_Spell</td>\n",
       "    </tr>\n",
       "    <tr>\n",
       "      <th>11</th>\n",
       "      <td>0.030682</td>\n",
       "      <td>mech_Charge</td>\n",
       "    </tr>\n",
       "    <tr>\n",
       "      <th>75</th>\n",
       "      <td>0.025265</td>\n",
       "      <td>race_Murloc</td>\n",
       "    </tr>\n",
       "  </tbody>\n",
       "</table>\n",
       "</div>"
      ],
      "text/plain": [
       "        coef        feature\n",
       "37  2.585011  cardset_Basic\n",
       "56  0.058437  faction_Horde\n",
       "80  0.039245     type_Spell\n",
       "11  0.030682    mech_Charge\n",
       "75  0.025265    race_Murloc"
      ]
     },
     "execution_count": 284,
     "metadata": {},
     "output_type": "execute_result"
    }
   ],
   "source": [
    "coef_0_pred = list(model_3.coef_[0])\n",
    "feature_list = X.columns\n",
    "logreg_pred_0_df =  pd.DataFrame({'coef':coef_0_pred,'feature':feature_list})\n",
    "logreg_pred_0_df.sort_values(by = 'coef', ascending = False).head()"
   ]
  },
  {
   "cell_type": "markdown",
   "metadata": {},
   "source": [
    "OH yep. That makes sense - totally forgot that all of the Free cards are in the Basic set - that's....why it's called Basic. That's pretty hilarious. But we can see the other classes are 'meh' at best, so let's get some NLP!"
   ]
  },
  {
   "cell_type": "markdown",
   "metadata": {},
   "source": [
    "## NLP Time"
   ]
  },
  {
   "cell_type": "markdown",
   "metadata": {},
   "source": [
    "Help from Dave's NLP walkthrough and here:\n",
    "https://stackoverflow.com/questions/47423854/sklearn-adding-lemmatizer-to-countvectorizer?rq=1"
   ]
  },
  {
   "cell_type": "code",
   "execution_count": 167,
   "metadata": {},
   "outputs": [
    {
     "data": {
      "text/html": [
       "<div>\n",
       "<style scoped>\n",
       "    .dataframe tbody tr th:only-of-type {\n",
       "        vertical-align: middle;\n",
       "    }\n",
       "\n",
       "    .dataframe tbody tr th {\n",
       "        vertical-align: top;\n",
       "    }\n",
       "\n",
       "    .dataframe thead th {\n",
       "        text-align: right;\n",
       "    }\n",
       "</style>\n",
       "<table border=\"1\" class=\"dataframe\">\n",
       "  <thead>\n",
       "    <tr style=\"text-align: right;\">\n",
       "      <th></th>\n",
       "      <th>attack</th>\n",
       "      <th>cardId</th>\n",
       "      <th>cost</th>\n",
       "      <th>durability</th>\n",
       "      <th>health</th>\n",
       "      <th>name</th>\n",
       "      <th>rarity</th>\n",
       "      <th>text</th>\n",
       "      <th>armor</th>\n",
       "      <th>mech_Adapt</th>\n",
       "      <th>...</th>\n",
       "      <th>race_General</th>\n",
       "      <th>race_Mech</th>\n",
       "      <th>race_Murloc</th>\n",
       "      <th>race_Pirate</th>\n",
       "      <th>race_Totem</th>\n",
       "      <th>type_Hero</th>\n",
       "      <th>type_Minion</th>\n",
       "      <th>type_Spell</th>\n",
       "      <th>type_Weapon</th>\n",
       "      <th>rarity_value</th>\n",
       "    </tr>\n",
       "  </thead>\n",
       "  <tbody>\n",
       "    <tr>\n",
       "      <th>0</th>\n",
       "      <td>-1.0</td>\n",
       "      <td>CS2_041</td>\n",
       "      <td>0.0</td>\n",
       "      <td>-1.0</td>\n",
       "      <td>-1.0</td>\n",
       "      <td>Ancestral Healing</td>\n",
       "      <td>Free</td>\n",
       "      <td>Restore a minion\\nto full Health and\\ngive it ...</td>\n",
       "      <td>-1.0</td>\n",
       "      <td>0.0</td>\n",
       "      <td>...</td>\n",
       "      <td>1</td>\n",
       "      <td>0</td>\n",
       "      <td>0</td>\n",
       "      <td>0</td>\n",
       "      <td>0</td>\n",
       "      <td>0</td>\n",
       "      <td>0</td>\n",
       "      <td>1</td>\n",
       "      <td>0</td>\n",
       "      <td>0</td>\n",
       "    </tr>\n",
       "    <tr>\n",
       "      <th>1</th>\n",
       "      <td>-1.0</td>\n",
       "      <td>CS2_072</td>\n",
       "      <td>0.0</td>\n",
       "      <td>-1.0</td>\n",
       "      <td>-1.0</td>\n",
       "      <td>Backstab</td>\n",
       "      <td>Free</td>\n",
       "      <td>Deal $2 damage to an undamaged minion.</td>\n",
       "      <td>-1.0</td>\n",
       "      <td>0.0</td>\n",
       "      <td>...</td>\n",
       "      <td>1</td>\n",
       "      <td>0</td>\n",
       "      <td>0</td>\n",
       "      <td>0</td>\n",
       "      <td>0</td>\n",
       "      <td>0</td>\n",
       "      <td>0</td>\n",
       "      <td>1</td>\n",
       "      <td>0</td>\n",
       "      <td>0</td>\n",
       "    </tr>\n",
       "    <tr>\n",
       "      <th>2</th>\n",
       "      <td>-1.0</td>\n",
       "      <td>EX1_169</td>\n",
       "      <td>0.0</td>\n",
       "      <td>-1.0</td>\n",
       "      <td>-1.0</td>\n",
       "      <td>Innervate</td>\n",
       "      <td>Free</td>\n",
       "      <td>Gain 1 Mana Crystal this turn only.</td>\n",
       "      <td>-1.0</td>\n",
       "      <td>0.0</td>\n",
       "      <td>...</td>\n",
       "      <td>1</td>\n",
       "      <td>0</td>\n",
       "      <td>0</td>\n",
       "      <td>0</td>\n",
       "      <td>0</td>\n",
       "      <td>0</td>\n",
       "      <td>0</td>\n",
       "      <td>1</td>\n",
       "      <td>0</td>\n",
       "      <td>0</td>\n",
       "    </tr>\n",
       "    <tr>\n",
       "      <th>3</th>\n",
       "      <td>-1.0</td>\n",
       "      <td>CS2_008</td>\n",
       "      <td>0.0</td>\n",
       "      <td>-1.0</td>\n",
       "      <td>-1.0</td>\n",
       "      <td>Moonfire</td>\n",
       "      <td>Free</td>\n",
       "      <td>Deal $1 damage.</td>\n",
       "      <td>-1.0</td>\n",
       "      <td>0.0</td>\n",
       "      <td>...</td>\n",
       "      <td>1</td>\n",
       "      <td>0</td>\n",
       "      <td>0</td>\n",
       "      <td>0</td>\n",
       "      <td>0</td>\n",
       "      <td>0</td>\n",
       "      <td>0</td>\n",
       "      <td>1</td>\n",
       "      <td>0</td>\n",
       "      <td>0</td>\n",
       "    </tr>\n",
       "    <tr>\n",
       "      <th>4</th>\n",
       "      <td>-1.0</td>\n",
       "      <td>NEW1_003</td>\n",
       "      <td>0.0</td>\n",
       "      <td>-1.0</td>\n",
       "      <td>-1.0</td>\n",
       "      <td>Sacrificial Pact</td>\n",
       "      <td>Free</td>\n",
       "      <td>Destroy a Demon. Restore #5 Health to your hero.</td>\n",
       "      <td>-1.0</td>\n",
       "      <td>0.0</td>\n",
       "      <td>...</td>\n",
       "      <td>1</td>\n",
       "      <td>0</td>\n",
       "      <td>0</td>\n",
       "      <td>0</td>\n",
       "      <td>0</td>\n",
       "      <td>0</td>\n",
       "      <td>0</td>\n",
       "      <td>1</td>\n",
       "      <td>0</td>\n",
       "      <td>0</td>\n",
       "    </tr>\n",
       "  </tbody>\n",
       "</table>\n",
       "<p>5 rows × 86 columns</p>\n",
       "</div>"
      ],
      "text/plain": [
       "   attack    cardId  cost  durability  health               name rarity  \\\n",
       "0    -1.0   CS2_041   0.0        -1.0    -1.0  Ancestral Healing   Free   \n",
       "1    -1.0   CS2_072   0.0        -1.0    -1.0           Backstab   Free   \n",
       "2    -1.0   EX1_169   0.0        -1.0    -1.0          Innervate   Free   \n",
       "3    -1.0   CS2_008   0.0        -1.0    -1.0           Moonfire   Free   \n",
       "4    -1.0  NEW1_003   0.0        -1.0    -1.0   Sacrificial Pact   Free   \n",
       "\n",
       "                                                text  armor  mech_Adapt  \\\n",
       "0  Restore a minion\\nto full Health and\\ngive it ...   -1.0         0.0   \n",
       "1             Deal $2 damage to an undamaged minion.   -1.0         0.0   \n",
       "2                Gain 1 Mana Crystal this turn only.   -1.0         0.0   \n",
       "3                                    Deal $1 damage.   -1.0         0.0   \n",
       "4   Destroy a Demon. Restore #5 Health to your hero.   -1.0         0.0   \n",
       "\n",
       "       ...       race_General  race_Mech  race_Murloc  race_Pirate  \\\n",
       "0      ...                  1          0            0            0   \n",
       "1      ...                  1          0            0            0   \n",
       "2      ...                  1          0            0            0   \n",
       "3      ...                  1          0            0            0   \n",
       "4      ...                  1          0            0            0   \n",
       "\n",
       "   race_Totem  type_Hero  type_Minion  type_Spell  type_Weapon  rarity_value  \n",
       "0           0          0            0           1            0             0  \n",
       "1           0          0            0           1            0             0  \n",
       "2           0          0            0           1            0             0  \n",
       "3           0          0            0           1            0             0  \n",
       "4           0          0            0           1            0             0  \n",
       "\n",
       "[5 rows x 86 columns]"
      ]
     },
     "execution_count": 167,
     "metadata": {},
     "output_type": "execute_result"
    }
   ],
   "source": [
    "df.head()"
   ]
  },
  {
   "cell_type": "code",
   "execution_count": 168,
   "metadata": {},
   "outputs": [
    {
     "data": {
      "text/plain": [
       "'<b>Taunt</b>\\\\n<b>Battlecry:</b> Deal 6 damage to this minion.'"
      ]
     },
     "execution_count": 168,
     "metadata": {},
     "output_type": "execute_result"
    }
   ],
   "source": [
    "df['text'][1704]"
   ]
  },
  {
   "cell_type": "markdown",
   "metadata": {},
   "source": [
    "We need stop words - I've already played around with this a BUNCH. ngram length and stop words change the upcoming graphs drastically. A lot of words in the default stop words list are actually VITAL in hearthstone - YOUR minion vs A minion are hugely different. I'm going to remove certain words from the stopword list:\n",
    "\n",
    "List found here: https://gist.github.com/sebleier/554280\n",
    "\n",
    "removed:\n",
    " - \"your\", \"yours\", \"you\"\n",
    " - itself\n",
    " - \"a\", \"an\"\n",
    " - \"they\", \"them\", \"their\", \"theirs\", \"themselves\"\n",
    " -  \"or\", \"and\"\n",
    " - \"during\", \"before\"\n",
    " - \"this\", \"that\","
   ]
  },
  {
   "cell_type": "code",
   "execution_count": 169,
   "metadata": {},
   "outputs": [],
   "source": [
    "custom_stop_words = [\"i\", \"me\", \"my\", \"myself\", \"we\", \"our\", \"ours\", \"ourselves\", \"you\",\n",
    " \"yourself\", \"yourselves\", \"he\", \"him\", \"his\", \"himself\",\n",
    " \"she\", \"her\", \"hers\", \"herself\", \"it\", \"its\",  \"what\", \"which\", \"who\", \"whom\", \n",
    " \"these\", \"those\", \"am\", \"is\", \"are\", \"was\", \"were\", \"be\", \"been\", \"being\",\n",
    " \"have\", \"has\", \"had\", \"having\", \"do\", \"does\", \"did\", \"doing\",  \"the\",\n",
    "  \"but\",  \"because\", \"as\", \"until\", \"while\", \"of\", \"at\", \"by\", \"if\"\n",
    " \"for\", \"with\", \"about\", \"against\", \"between\", \"into\", \"through\", \n",
    " \"after\", \"above\", \"below\", \"to\", \"from\", \"up\", \"down\", \"in\", \"out\", \"on\", \"off\", \n",
    " \"over\", \"under\", \"again\", \"further\", \"then\", \"once\", \"here\", \"there\", \"when\", \n",
    " \"where\", \"why\", \"how\", \"all\", \"any\", \"both\", \"each\", \"few\", \"more\", \"most\", \n",
    " \"other\", \"some\", \"such\", \"no\", \"nor\", \"not\",\"only\", \"own\", \"same\", \"so\", \n",
    " \"than\", \"too\", \"very\", \"s\", \"t\", \"can\", \"will\", \"just\", \"don\", \"should\", \"now\"]"
   ]
  },
  {
   "cell_type": "code",
   "execution_count": 170,
   "metadata": {},
   "outputs": [],
   "source": [
    "def post_to_words(raw_post):\n",
    "\n",
    "    # 1. Remove HTML.\n",
    "    #beaut_text = BeautifulSoup(raw_post, 'lxml').get_text()\n",
    "    \n",
    "    # 2. Remove the '\\n' string:\n",
    "    raw_post = raw_post.replace('\\\\n', ' ')\n",
    "    raw_post = raw_post.replace('\\n', ' ')\n",
    "    raw_post = raw_post.replace('<b>',' ')\n",
    "    raw_post = raw_post.replace('</b>',' ')\n",
    "    raw_post = raw_post.replace(\"’\", '')\n",
    "    \n",
    "    \n",
    "    # 4. Remove non-letters.\n",
    "    #letters_only = re.sub(\"[^a-zA-Z]\", \" \", beaut_text)\n",
    "    \n",
    "    # 5. Convert to lower case, split into individual words.\n",
    "    #words = beaut_text.lower().split()\n",
    "\n",
    "    # 6. Join the words back into one string separated by space, \n",
    "    # and return the result.\n",
    "    return raw_post.translate(str.maketrans('', '', punctuation))"
   ]
  },
  {
   "cell_type": "code",
   "execution_count": 171,
   "metadata": {},
   "outputs": [
    {
     "data": {
      "text/plain": [
       "'<b>Taunt</b>\\\\n<b>Battlecry:</b> Deal 6 damage to this minion.'"
      ]
     },
     "execution_count": 171,
     "metadata": {},
     "output_type": "execute_result"
    }
   ],
   "source": [
    "test = df['text'][1704]\n",
    "test"
   ]
  },
  {
   "cell_type": "code",
   "execution_count": 172,
   "metadata": {},
   "outputs": [
    {
     "data": {
      "text/plain": [
       "' Taunt   Battlecry  Deal 6 damage to this minion'"
      ]
     },
     "execution_count": 172,
     "metadata": {},
     "output_type": "execute_result"
    }
   ],
   "source": [
    "post_to_words(test)"
   ]
  },
  {
   "cell_type": "code",
   "execution_count": 173,
   "metadata": {},
   "outputs": [],
   "source": [
    "df['text'] = df['text'].apply(post_to_words)\n"
   ]
  },
  {
   "cell_type": "code",
   "execution_count": 174,
   "metadata": {},
   "outputs": [],
   "source": [
    "class LemmaTokenizer(object):\n",
    "    def __init__(self):\n",
    "        self.wnl = WordNetLemmatizer()\n",
    "    def __call__(self, articles):\n",
    "        return [self.wnl.lemmatize(t) for t in word_tokenize(articles)]\n",
    "\n",
    "cvec = CountVectorizer(tokenizer=LemmaTokenizer(),\n",
    "                                ngram_range = (3,5),\n",
    "                                strip_accents = 'unicode', # works \n",
    "                                stop_words = custom_stop_words, # works\n",
    "                                lowercase = True) # works\n",
    "                    "
   ]
  },
  {
   "cell_type": "code",
   "execution_count": 175,
   "metadata": {},
   "outputs": [],
   "source": [
    "text_vect = cvec.fit_transform(df['text'])\n",
    "text_vect_df = pd.DataFrame(text_vect.toarray(), columns = cvec.get_feature_names())\n",
    "text_vect_df.set_index(df['rarity'], inplace=True)"
   ]
  },
  {
   "cell_type": "code",
   "execution_count": 176,
   "metadata": {},
   "outputs": [
    {
     "data": {
      "text/html": [
       "<div>\n",
       "<style scoped>\n",
       "    .dataframe tbody tr th:only-of-type {\n",
       "        vertical-align: middle;\n",
       "    }\n",
       "\n",
       "    .dataframe tbody tr th {\n",
       "        vertical-align: top;\n",
       "    }\n",
       "\n",
       "    .dataframe thead th {\n",
       "        text-align: right;\n",
       "    }\n",
       "</style>\n",
       "<table border=\"1\" class=\"dataframe\">\n",
       "  <thead>\n",
       "    <tr style=\"text-align: right;\">\n",
       "      <th></th>\n",
       "      <th>0 battlecry discover</th>\n",
       "      <th>0 battlecry discover a</th>\n",
       "      <th>0 battlecry discover a spell</th>\n",
       "      <th>0 if your</th>\n",
       "      <th>0 if your hero</th>\n",
       "      <th>0 if your hero wa</th>\n",
       "      <th>0 if youre</th>\n",
       "      <th>0 if youre holding</th>\n",
       "      <th>0 if youre holding a</th>\n",
       "      <th>0 if youve</th>\n",
       "      <th>...</th>\n",
       "      <th>youve played thisgame</th>\n",
       "      <th>youve restored 10</th>\n",
       "      <th>youve restored 10 health</th>\n",
       "      <th>youve restored 10 health this</th>\n",
       "      <th>youve restored 5</th>\n",
       "      <th>youve restored 5 health</th>\n",
       "      <th>youve restored 5 health this</th>\n",
       "      <th>youve spent spell</th>\n",
       "      <th>youve summoned this</th>\n",
       "      <th>youve summoned this game</th>\n",
       "    </tr>\n",
       "    <tr>\n",
       "      <th>rarity</th>\n",
       "      <th></th>\n",
       "      <th></th>\n",
       "      <th></th>\n",
       "      <th></th>\n",
       "      <th></th>\n",
       "      <th></th>\n",
       "      <th></th>\n",
       "      <th></th>\n",
       "      <th></th>\n",
       "      <th></th>\n",
       "      <th></th>\n",
       "      <th></th>\n",
       "      <th></th>\n",
       "      <th></th>\n",
       "      <th></th>\n",
       "      <th></th>\n",
       "      <th></th>\n",
       "      <th></th>\n",
       "      <th></th>\n",
       "      <th></th>\n",
       "      <th></th>\n",
       "    </tr>\n",
       "  </thead>\n",
       "  <tbody>\n",
       "    <tr>\n",
       "      <th>Free</th>\n",
       "      <td>0</td>\n",
       "      <td>0</td>\n",
       "      <td>0</td>\n",
       "      <td>0</td>\n",
       "      <td>0</td>\n",
       "      <td>0</td>\n",
       "      <td>0</td>\n",
       "      <td>0</td>\n",
       "      <td>0</td>\n",
       "      <td>0</td>\n",
       "      <td>...</td>\n",
       "      <td>0</td>\n",
       "      <td>0</td>\n",
       "      <td>0</td>\n",
       "      <td>0</td>\n",
       "      <td>0</td>\n",
       "      <td>0</td>\n",
       "      <td>0</td>\n",
       "      <td>0</td>\n",
       "      <td>0</td>\n",
       "      <td>0</td>\n",
       "    </tr>\n",
       "    <tr>\n",
       "      <th>Free</th>\n",
       "      <td>0</td>\n",
       "      <td>0</td>\n",
       "      <td>0</td>\n",
       "      <td>0</td>\n",
       "      <td>0</td>\n",
       "      <td>0</td>\n",
       "      <td>0</td>\n",
       "      <td>0</td>\n",
       "      <td>0</td>\n",
       "      <td>0</td>\n",
       "      <td>...</td>\n",
       "      <td>0</td>\n",
       "      <td>0</td>\n",
       "      <td>0</td>\n",
       "      <td>0</td>\n",
       "      <td>0</td>\n",
       "      <td>0</td>\n",
       "      <td>0</td>\n",
       "      <td>0</td>\n",
       "      <td>0</td>\n",
       "      <td>0</td>\n",
       "    </tr>\n",
       "    <tr>\n",
       "      <th>Free</th>\n",
       "      <td>0</td>\n",
       "      <td>0</td>\n",
       "      <td>0</td>\n",
       "      <td>0</td>\n",
       "      <td>0</td>\n",
       "      <td>0</td>\n",
       "      <td>0</td>\n",
       "      <td>0</td>\n",
       "      <td>0</td>\n",
       "      <td>0</td>\n",
       "      <td>...</td>\n",
       "      <td>0</td>\n",
       "      <td>0</td>\n",
       "      <td>0</td>\n",
       "      <td>0</td>\n",
       "      <td>0</td>\n",
       "      <td>0</td>\n",
       "      <td>0</td>\n",
       "      <td>0</td>\n",
       "      <td>0</td>\n",
       "      <td>0</td>\n",
       "    </tr>\n",
       "    <tr>\n",
       "      <th>Free</th>\n",
       "      <td>0</td>\n",
       "      <td>0</td>\n",
       "      <td>0</td>\n",
       "      <td>0</td>\n",
       "      <td>0</td>\n",
       "      <td>0</td>\n",
       "      <td>0</td>\n",
       "      <td>0</td>\n",
       "      <td>0</td>\n",
       "      <td>0</td>\n",
       "      <td>...</td>\n",
       "      <td>0</td>\n",
       "      <td>0</td>\n",
       "      <td>0</td>\n",
       "      <td>0</td>\n",
       "      <td>0</td>\n",
       "      <td>0</td>\n",
       "      <td>0</td>\n",
       "      <td>0</td>\n",
       "      <td>0</td>\n",
       "      <td>0</td>\n",
       "    </tr>\n",
       "    <tr>\n",
       "      <th>Free</th>\n",
       "      <td>0</td>\n",
       "      <td>0</td>\n",
       "      <td>0</td>\n",
       "      <td>0</td>\n",
       "      <td>0</td>\n",
       "      <td>0</td>\n",
       "      <td>0</td>\n",
       "      <td>0</td>\n",
       "      <td>0</td>\n",
       "      <td>0</td>\n",
       "      <td>...</td>\n",
       "      <td>0</td>\n",
       "      <td>0</td>\n",
       "      <td>0</td>\n",
       "      <td>0</td>\n",
       "      <td>0</td>\n",
       "      <td>0</td>\n",
       "      <td>0</td>\n",
       "      <td>0</td>\n",
       "      <td>0</td>\n",
       "      <td>0</td>\n",
       "    </tr>\n",
       "  </tbody>\n",
       "</table>\n",
       "<p>5 rows × 17572 columns</p>\n",
       "</div>"
      ],
      "text/plain": [
       "        0 battlecry discover  0 battlecry discover a  \\\n",
       "rarity                                                 \n",
       "Free                       0                       0   \n",
       "Free                       0                       0   \n",
       "Free                       0                       0   \n",
       "Free                       0                       0   \n",
       "Free                       0                       0   \n",
       "\n",
       "        0 battlecry discover a spell  0 if your  0 if your hero  \\\n",
       "rarity                                                            \n",
       "Free                               0          0               0   \n",
       "Free                               0          0               0   \n",
       "Free                               0          0               0   \n",
       "Free                               0          0               0   \n",
       "Free                               0          0               0   \n",
       "\n",
       "        0 if your hero wa  0 if youre  0 if youre holding  \\\n",
       "rarity                                                      \n",
       "Free                    0           0                   0   \n",
       "Free                    0           0                   0   \n",
       "Free                    0           0                   0   \n",
       "Free                    0           0                   0   \n",
       "Free                    0           0                   0   \n",
       "\n",
       "        0 if youre holding a  0 if youve            ...             \\\n",
       "rarity                                              ...              \n",
       "Free                       0           0            ...              \n",
       "Free                       0           0            ...              \n",
       "Free                       0           0            ...              \n",
       "Free                       0           0            ...              \n",
       "Free                       0           0            ...              \n",
       "\n",
       "        youve played thisgame  youve restored 10  youve restored 10 health  \\\n",
       "rarity                                                                       \n",
       "Free                        0                  0                         0   \n",
       "Free                        0                  0                         0   \n",
       "Free                        0                  0                         0   \n",
       "Free                        0                  0                         0   \n",
       "Free                        0                  0                         0   \n",
       "\n",
       "        youve restored 10 health this  youve restored 5  \\\n",
       "rarity                                                    \n",
       "Free                                0                 0   \n",
       "Free                                0                 0   \n",
       "Free                                0                 0   \n",
       "Free                                0                 0   \n",
       "Free                                0                 0   \n",
       "\n",
       "        youve restored 5 health  youve restored 5 health this  \\\n",
       "rarity                                                          \n",
       "Free                          0                             0   \n",
       "Free                          0                             0   \n",
       "Free                          0                             0   \n",
       "Free                          0                             0   \n",
       "Free                          0                             0   \n",
       "\n",
       "        youve spent spell  youve summoned this  youve summoned this game  \n",
       "rarity                                                                    \n",
       "Free                    0                    0                         0  \n",
       "Free                    0                    0                         0  \n",
       "Free                    0                    0                         0  \n",
       "Free                    0                    0                         0  \n",
       "Free                    0                    0                         0  \n",
       "\n",
       "[5 rows x 17572 columns]"
      ]
     },
     "execution_count": 176,
     "metadata": {},
     "output_type": "execute_result"
    }
   ],
   "source": [
    "text_vect_df.head()"
   ]
  },
  {
   "cell_type": "code",
   "execution_count": 177,
   "metadata": {},
   "outputs": [],
   "source": [
    "top_free_features = text_vect_df.loc['Free'].sum().sort_values(ascending = False)[:30]\n",
    "top_common_features = text_vect_df.loc['Common'].sum().sort_values(ascending = False)[:30]\n",
    "top_rare_features = text_vect_df.loc['Rare'].sum().sort_values(ascending = False)[:30]\n",
    "top_epic_features = text_vect_df.loc['Epic'].sum().sort_values(ascending = False)[:30]\n",
    "top_legendary_features = text_vect_df.loc['Legendary'].sum().sort_values(ascending = False)[:30]"
   ]
  },
  {
   "cell_type": "code",
   "execution_count": 178,
   "metadata": {},
   "outputs": [
    {
     "data": {
      "image/png": "[encoded data removed]",
      "text/plain": [
       "<Figure size 720x576 with 1 Axes>"
      ]
     },
     "metadata": {},
     "output_type": "display_data"
    }
   ],
   "source": [
    "plt.figure(figsize = (10, 8))\n",
    "plt.barh(top_free_features.index, top_free_features.values)\n",
    "plt.title('Top Free Features', fontsize = 20)\n",
    "plt.xlabel('Count', fontsize = 15)\n",
    "plt.ylabel('Feature', fontsize = 15)\n",
    "plt.show()"
   ]
  },
  {
   "cell_type": "code",
   "execution_count": 179,
   "metadata": {},
   "outputs": [
    {
     "data": {
      "image/png": "[encoded data removed]",
      "text/plain": [
       "<Figure size 720x576 with 1 Axes>"
      ]
     },
     "metadata": {},
     "output_type": "display_data"
    }
   ],
   "source": [
    "plt.figure(figsize = (10, 8))\n",
    "plt.barh(top_common_features.index, top_common_features.values)\n",
    "plt.title('Top Common Features', fontsize = 20)\n",
    "plt.xlabel('Count', fontsize = 15)\n",
    "plt.ylabel('Feature', fontsize = 15)\n",
    "plt.show()"
   ]
  },
  {
   "cell_type": "code",
   "execution_count": 180,
   "metadata": {},
   "outputs": [
    {
     "data": {
      "image/png": "[encoded data removed]",
      "text/plain": [
       "<Figure size 720x576 with 1 Axes>"
      ]
     },
     "metadata": {},
     "output_type": "display_data"
    }
   ],
   "source": [
    "plt.figure(figsize = (10, 8))\n",
    "plt.barh(top_rare_features.index, top_rare_features.values)\n",
    "plt.title('Top Rare Features', fontsize = 20)\n",
    "plt.xlabel('Count', fontsize = 15)\n",
    "plt.ylabel('Feature', fontsize = 15)\n",
    "plt.show()"
   ]
  },
  {
   "cell_type": "code",
   "execution_count": 181,
   "metadata": {},
   "outputs": [
    {
     "data": {
      "image/png": "[encoded data removed]",
      "text/plain": [
       "<Figure size 720x576 with 1 Axes>"
      ]
     },
     "metadata": {},
     "output_type": "display_data"
    }
   ],
   "source": [
    "plt.figure(figsize = (10, 8))\n",
    "plt.barh(top_epic_features.index, top_epic_features.values)\n",
    "plt.title('Top Epic Features', fontsize = 20)\n",
    "plt.xlabel('Count', fontsize = 15)\n",
    "plt.ylabel('Feature', fontsize = 15)\n",
    "plt.show()"
   ]
  },
  {
   "cell_type": "code",
   "execution_count": 182,
   "metadata": {},
   "outputs": [
    {
     "data": {
      "image/png": "[encoded data removed]",
      "text/plain": [
       "<Figure size 720x576 with 1 Axes>"
      ]
     },
     "metadata": {},
     "output_type": "display_data"
    }
   ],
   "source": [
    "plt.figure(figsize = (10, 8))\n",
    "plt.barh(top_legendary_features.index, top_legendary_features.values)\n",
    "plt.title('Top Legendary Features', fontsize = 20)\n",
    "plt.xlabel('Count', fontsize = 15)\n",
    "plt.ylabel('Feature', fontsize = 15)\n",
    "plt.show()"
   ]
  },
  {
   "cell_type": "markdown",
   "metadata": {},
   "source": [
    "This looks the best! Let's try some models."
   ]
  },
  {
   "cell_type": "code",
   "execution_count": 183,
   "metadata": {},
   "outputs": [],
   "source": [
    "# set up X and y\n",
    "\n",
    "X = text_vect_df\n",
    "y = text_vect_df.index"
   ]
  },
  {
   "cell_type": "code",
   "execution_count": 184,
   "metadata": {},
   "outputs": [],
   "source": [
    "X_train, X_test, y_train, y_test = train_test_split(X, y, test_size = 0.3, random_state = 42)"
   ]
  },
  {
   "cell_type": "code",
   "execution_count": 185,
   "metadata": {},
   "outputs": [
    {
     "name": "stdout",
     "output_type": "stream",
     "text": [
      "train score: 0.9465\n",
      "test score: 0.3594\n"
     ]
    }
   ],
   "source": [
    "logreg = LogisticRegression()\n",
    "model_4 = logreg.fit(X_train, y_train)\n",
    "\n",
    "train_score = round(model_4.score(X_train, y_train), 5)\n",
    "test_score = round(model_4.score(X_test, y_test), 5)\n",
    "\n",
    "print('train score:', train_score)\n",
    "print('test score:', test_score)\n",
    "\n"
   ]
  },
  {
   "cell_type": "code",
   "execution_count": 186,
   "metadata": {},
   "outputs": [
    {
     "data": {
      "text/plain": [
       "Text(0.5,1,'Confusion Matrix')"
      ]
     },
     "execution_count": 186,
     "metadata": {},
     "output_type": "execute_result"
    },
    {
     "data": {
      "image/png": "[encoded data removed]",
      "text/plain": [
       "<Figure size 432x288 with 2 Axes>"
      ]
     },
     "metadata": {},
     "output_type": "display_data"
    }
   ],
   "source": [
    "y_true = y_test\n",
    "y_pred = model_4.predict(X_test)\n",
    "\n",
    "sns.heatmap(confusion_matrix(y_true, y_pred),\n",
    "           annot = True, fmt = 'd', )\n",
    "plt.xlabel('Predicted')\n",
    "plt.ylabel('Actual')\n",
    "plt.title('Confusion Matrix')"
   ]
  },
  {
   "cell_type": "markdown",
   "metadata": {},
   "source": [
    "We DEFINITELY need to regularize. "
   ]
  },
  {
   "cell_type": "markdown",
   "metadata": {},
   "source": [
    "# Optimizing Using Pipelines and Regularization"
   ]
  },
  {
   "cell_type": "markdown",
   "metadata": {},
   "source": [
    "## Predicting Rarity"
   ]
  },
  {
   "cell_type": "code",
   "execution_count": 187,
   "metadata": {},
   "outputs": [],
   "source": [
    "X = df['text']\n",
    "y = df['rarity_value']\n",
    "\n",
    "X_train, X_test, y_train, y_test = train_test_split(X, y ,\n",
    "                                                        test_size = 0.25,\n",
    "                                                        stratify = y,\n",
    "                                                        random_state = 42)"
   ]
  },
  {
   "cell_type": "markdown",
   "metadata": {},
   "source": [
    "## CVEC and LogReg"
   ]
  },
  {
   "cell_type": "code",
   "execution_count": 188,
   "metadata": {},
   "outputs": [
    {
     "name": "stdout",
     "output_type": "stream",
     "text": [
      "Fitting 3 folds for each of 96 candidates, totalling 288 fits\n",
      "\r",
      "[                                        ] 0% | 0.00 sec | GridSearchCV "
     ]
    },
    {
     "name": "stderr",
     "output_type": "stream",
     "text": [
      "[ParallelProgressBar(n_jobs=1)]: Using backend SequentialBackend with 1 concurrent workers.\n"
     ]
    },
    {
     "name": "stdout",
     "output_type": "stream",
     "text": [
      "[........................................] 100% | 167.50 sec | GridSearchCV \n"
     ]
    },
    {
     "name": "stderr",
     "output_type": "stream",
     "text": [
      "[ParallelProgressBar(n_jobs=1)]: Done 288 out of 288 | elapsed:  2.8min finished\n"
     ]
    }
   ],
   "source": [
    "# MAKE A PIPELINE WITH DIFFERENT VECTORIZES AND MODELS\n",
    "\n",
    "pipe = Pipeline([\n",
    "    ('cvec', CountVectorizer()),\n",
    "    ('lr', LogisticRegression(random_state = 42))\n",
    "])\n",
    "\n",
    "params = {\n",
    "    'cvec__max_features': [200,500,1000,1500],\n",
    "    'cvec__tokenizer': [LemmaTokenizer()],\n",
    "    'cvec__stop_words': [custom_stop_words, 'english'],\n",
    "    'cvec__lowercase': [True],\n",
    "    'cvec__ngram_range': [(1,2), (2,3), (3,4)],\n",
    "    'lr__penalty':['l1','l2'],\n",
    "    'lr__class_weight': [None, 'balanced']\n",
    "}\n",
    "\n",
    "gs1 = GridSearchCVProgressBar(pipe, params, cv = 3, verbose = 1)\n",
    "\n",
    "gs1.fit(X_train, y_train);\n"
   ]
  },
  {
   "cell_type": "code",
   "execution_count": 189,
   "metadata": {},
   "outputs": [],
   "source": [
    "def model_metrics(model_name):\n",
    "    print('Train Accuracy:', model_name.score(X_train, y_train))\n",
    "    print('Test Accuracy:', model_name.score(X_test, y_test))\n",
    "    print('')\n",
    "\n",
    "    y_true = y_test\n",
    "    y_pred = model_name.predict(X_test)\n",
    "    \n",
    "\n",
    "    sns.heatmap(confusion_matrix(y_true, y_pred),\n",
    "           annot = True, fmt = 'd', )\n",
    "    plt.xlabel('Predicted')\n",
    "    plt.ylabel('Actual')\n",
    "    plt.title('Confusion Matrix')\n",
    "    \n",
    "    plt.show()\n",
    "    \n",
    "  \n",
    "    sns.heatmap(confusion_matrix(y_true, y_pred).astype('float') / confusion_matrix(y_true, y_pred).sum(axis=1)[:, np.newaxis],\n",
    "           annot = True, fmt = '.2f', )\n",
    "    plt.xlabel('Predicted')\n",
    "    plt.ylabel('Actual')\n",
    "    plt.title('Confusion Matrix - Normalized')\n",
    "    \n",
    "    plt.show()\n",
    "    \n",
    "    \n",
    "    "
   ]
  },
  {
   "cell_type": "code",
   "execution_count": 190,
   "metadata": {},
   "outputs": [
    {
     "name": "stdout",
     "output_type": "stream",
     "text": [
      "max features: 500\n",
      "stop words: english\n",
      "ngram range: (1, 2)\n",
      "LogReg penalty: l2\n",
      "LogReg class weight: None\n"
     ]
    }
   ],
   "source": [
    "print(\"max features:\", gs1.best_params_.get('cvec__max_features'))\n",
    "print(\"stop words:\", gs1.best_params_.get('cvec__stop_words'))\n",
    "print(\"ngram range:\", gs1.best_params_.get('cvec__ngram_range'))\n",
    "print(\"LogReg penalty:\", gs1.best_params_.get('lr__penalty'))\n",
    "print(\"LogReg class weight:\", gs1.best_params_.get('lr__class_weight'))\n",
    "\n"
   ]
  },
  {
   "cell_type": "code",
   "execution_count": 191,
   "metadata": {},
   "outputs": [
    {
     "name": "stdout",
     "output_type": "stream",
     "text": [
      "Train Accuracy: 0.6657789613848203\n",
      "Test Accuracy: 0.4231536926147705\n",
      "\n"
     ]
    },
    {
     "data": {
      "image/png": "[encoded data removed]",
      "text/plain": [
       "<Figure size 432x288 with 2 Axes>"
      ]
     },
     "metadata": {},
     "output_type": "display_data"
    },
    {
     "data": {
      "image/png": "[encoded data removed]",
      "text/plain": [
       "<Figure size 432x288 with 2 Axes>"
      ]
     },
     "metadata": {},
     "output_type": "display_data"
    }
   ],
   "source": [
    "model_metrics(gs1)"
   ]
  },
  {
   "cell_type": "markdown",
   "metadata": {},
   "source": [
    "## TiffyDif and LogReg"
   ]
  },
  {
   "cell_type": "code",
   "execution_count": 192,
   "metadata": {},
   "outputs": [
    {
     "name": "stdout",
     "output_type": "stream",
     "text": [
      "Fitting 3 folds for each of 96 candidates, totalling 288 fits\n",
      "\r",
      "[                                        ] 0% | 0.00 sec | GridSearchCV "
     ]
    },
    {
     "name": "stderr",
     "output_type": "stream",
     "text": [
      "[ParallelProgressBar(n_jobs=1)]: Using backend SequentialBackend with 1 concurrent workers.\n"
     ]
    },
    {
     "name": "stdout",
     "output_type": "stream",
     "text": [
      "[........................................] 100% | 166.36 sec | GridSearchCV \n"
     ]
    },
    {
     "name": "stderr",
     "output_type": "stream",
     "text": [
      "[ParallelProgressBar(n_jobs=1)]: Done 288 out of 288 | elapsed:  2.8min finished\n"
     ]
    }
   ],
   "source": [
    "pipe = Pipeline([\n",
    "    ('tvec', TfidfVectorizer()),\n",
    "    ('lr', LogisticRegression(random_state = 42))\n",
    "])\n",
    "\n",
    "params = {\n",
    "    'tvec__max_features': [200,500,1000,1500],\n",
    "    'tvec__tokenizer': [LemmaTokenizer()],\n",
    "    'tvec__stop_words': [custom_stop_words, 'english'],\n",
    "    'tvec__lowercase': [True],\n",
    "    'tvec__ngram_range': [(1,2), (2,3), (3,4)],\n",
    "    'lr__penalty':['l1','l2'],\n",
    "    'lr__class_weight': [None, 'balanced']\n",
    "}\n",
    "\n",
    "gs2 = GridSearchCVProgressBar(pipe, params, cv = 3, verbose = 1)\n",
    "\n",
    "gs2.fit(X_train, y_train);\n"
   ]
  },
  {
   "cell_type": "code",
   "execution_count": 193,
   "metadata": {},
   "outputs": [
    {
     "name": "stdout",
     "output_type": "stream",
     "text": [
      "max features: 500\n",
      "stop words: ['i', 'me', 'my', 'myself', 'we', 'our', 'ours', 'ourselves', 'you', 'yourself', 'yourselves', 'he', 'him', 'his', 'himself', 'she', 'her', 'hers', 'herself', 'it', 'its', 'what', 'which', 'who', 'whom', 'these', 'those', 'am', 'is', 'are', 'was', 'were', 'be', 'been', 'being', 'have', 'has', 'had', 'having', 'do', 'does', 'did', 'doing', 'the', 'but', 'because', 'as', 'until', 'while', 'of', 'at', 'by', 'iffor', 'with', 'about', 'against', 'between', 'into', 'through', 'after', 'above', 'below', 'to', 'from', 'up', 'down', 'in', 'out', 'on', 'off', 'over', 'under', 'again', 'further', 'then', 'once', 'here', 'there', 'when', 'where', 'why', 'how', 'all', 'any', 'both', 'each', 'few', 'more', 'most', 'other', 'some', 'such', 'no', 'nor', 'not', 'only', 'own', 'same', 'so', 'than', 'too', 'very', 's', 't', 'can', 'will', 'just', 'don', 'should', 'now']\n",
      "ngram range: (1, 2)\n",
      "LogReg penalty: l2\n",
      "LogReg class weight: None\n"
     ]
    }
   ],
   "source": [
    "print(\"max features:\", gs2.best_params_.get('tvec__max_features'))\n",
    "print(\"stop words:\", gs2.best_params_.get('tvec__stop_words'))\n",
    "print(\"ngram range:\", gs2.best_params_.get('tvec__ngram_range'))\n",
    "print(\"LogReg penalty:\", gs2.best_params_.get('lr__penalty'))\n",
    "print(\"LogReg class weight:\", gs2.best_params_.get('lr__class_weight'))\n"
   ]
  },
  {
   "cell_type": "code",
   "execution_count": 194,
   "metadata": {},
   "outputs": [
    {
     "name": "stdout",
     "output_type": "stream",
     "text": [
      "Train Accuracy: 0.5818908122503329\n",
      "Test Accuracy: 0.4251497005988024\n",
      "\n"
     ]
    },
    {
     "data": {
      "image/png": "[encoded data removed]",
      "text/plain": [
       "<Figure size 432x288 with 2 Axes>"
      ]
     },
     "metadata": {},
     "output_type": "display_data"
    },
    {
     "data": {
      "image/png": "[encoded data removed]",
      "text/plain": [
       "<Figure size 432x288 with 2 Axes>"
      ]
     },
     "metadata": {},
     "output_type": "display_data"
    }
   ],
   "source": [
    "model_metrics(gs2)"
   ]
  },
  {
   "cell_type": "code",
   "execution_count": null,
   "metadata": {},
   "outputs": [],
   "source": []
  },
  {
   "cell_type": "markdown",
   "metadata": {},
   "source": [
    "## CVEC and Multinomial"
   ]
  },
  {
   "cell_type": "code",
   "execution_count": 195,
   "metadata": {},
   "outputs": [
    {
     "name": "stdout",
     "output_type": "stream",
     "text": [
      "Fitting 3 folds for each of 24 candidates, totalling 72 fits\n",
      "\r",
      "[                                        ] 0% | 0.00 sec | GridSearchCV "
     ]
    },
    {
     "name": "stderr",
     "output_type": "stream",
     "text": [
      "[ParallelProgressBar(n_jobs=1)]: Using backend SequentialBackend with 1 concurrent workers.\n"
     ]
    },
    {
     "name": "stdout",
     "output_type": "stream",
     "text": [
      "[........................................] 100% | 41.99 sec | GridSearchCV \n"
     ]
    },
    {
     "name": "stderr",
     "output_type": "stream",
     "text": [
      "[ParallelProgressBar(n_jobs=1)]: Done  72 out of  72 | elapsed:   42.0s finished\n"
     ]
    }
   ],
   "source": [
    "# MAKE A PIPELINE WITH DIFFERENT VECTORIZES AND MODELS\n",
    "\n",
    "pipe = Pipeline([\n",
    "    ('cvec', CountVectorizer()),\n",
    "    ('mnb', MultinomialNB())\n",
    "])\n",
    "\n",
    "params = {\n",
    "    'cvec__max_features': [200,500,1000,1500],\n",
    "    'cvec__tokenizer': [LemmaTokenizer()],\n",
    "    'cvec__stop_words': [custom_stop_words, 'english'],\n",
    "    'cvec__lowercase': [True],\n",
    "    'cvec__ngram_range': [(1,2), (2,3), (3,4)],\n",
    "}\n",
    "\n",
    "gs3 = GridSearchCVProgressBar(pipe, params, cv = 3, verbose = 1)\n",
    "\n",
    "gs3.fit(X_train, y_train);"
   ]
  },
  {
   "cell_type": "code",
   "execution_count": 196,
   "metadata": {},
   "outputs": [
    {
     "name": "stdout",
     "output_type": "stream",
     "text": [
      "max features: 1500\n",
      "stop words: ['i', 'me', 'my', 'myself', 'we', 'our', 'ours', 'ourselves', 'you', 'yourself', 'yourselves', 'he', 'him', 'his', 'himself', 'she', 'her', 'hers', 'herself', 'it', 'its', 'what', 'which', 'who', 'whom', 'these', 'those', 'am', 'is', 'are', 'was', 'were', 'be', 'been', 'being', 'have', 'has', 'had', 'having', 'do', 'does', 'did', 'doing', 'the', 'but', 'because', 'as', 'until', 'while', 'of', 'at', 'by', 'iffor', 'with', 'about', 'against', 'between', 'into', 'through', 'after', 'above', 'below', 'to', 'from', 'up', 'down', 'in', 'out', 'on', 'off', 'over', 'under', 'again', 'further', 'then', 'once', 'here', 'there', 'when', 'where', 'why', 'how', 'all', 'any', 'both', 'each', 'few', 'more', 'most', 'other', 'some', 'such', 'no', 'nor', 'not', 'only', 'own', 'same', 'so', 'than', 'too', 'very', 's', 't', 'can', 'will', 'just', 'don', 'should', 'now']\n",
      "ngram range: (1, 2)\n",
      "Train Accuracy: 0.6637816245006658\n",
      "Test Accuracy: 0.41317365269461076\n",
      "\n"
     ]
    },
    {
     "data": {
      "image/png": "[encoded data removed]",
      "text/plain": [
       "<Figure size 432x288 with 2 Axes>"
      ]
     },
     "metadata": {},
     "output_type": "display_data"
    },
    {
     "data": {
      "image/png": "[encoded data removed]",
      "text/plain": [
       "<Figure size 432x288 with 2 Axes>"
      ]
     },
     "metadata": {},
     "output_type": "display_data"
    }
   ],
   "source": [
    "print(\"max features:\", gs3.best_params_.get('cvec__max_features'))\n",
    "print(\"stop words:\", gs3.best_params_.get('cvec__stop_words'))\n",
    "print(\"ngram range:\", gs3.best_params_.get('cvec__ngram_range'))\n",
    "\n",
    "model_metrics(gs3)\n"
   ]
  },
  {
   "cell_type": "code",
   "execution_count": null,
   "metadata": {},
   "outputs": [],
   "source": []
  },
  {
   "cell_type": "markdown",
   "metadata": {},
   "source": [
    "## Bagging K Neighbors? Just to Try"
   ]
  },
  {
   "cell_type": "code",
   "execution_count": 204,
   "metadata": {},
   "outputs": [
    {
     "name": "stdout",
     "output_type": "stream",
     "text": [
      "Fitting 3 folds for each of 16 candidates, totalling 48 fits\n",
      "\r",
      "[                                        ] 0% | 0.00 sec | GridSearchCV "
     ]
    },
    {
     "name": "stderr",
     "output_type": "stream",
     "text": [
      "[ParallelProgressBar(n_jobs=1)]: Using backend SequentialBackend with 1 concurrent workers.\n"
     ]
    },
    {
     "name": "stdout",
     "output_type": "stream",
     "text": [
      "[........................................] 100% | 50.58 sec | GridSearchCV \n"
     ]
    },
    {
     "name": "stderr",
     "output_type": "stream",
     "text": [
      "[ParallelProgressBar(n_jobs=1)]: Done  48 out of  48 | elapsed:   50.6s finished\n"
     ]
    }
   ],
   "source": [
    "pipe = Pipeline([\n",
    "    ('cvec', CountVectorizer()),\n",
    "    ('bag', BaggingClassifier())\n",
    "])\n",
    "\n",
    "params = {\n",
    "    'cvec__max_features': [200,500,1000,1500],\n",
    "    'cvec__tokenizer': [LemmaTokenizer()],\n",
    "    'cvec__stop_words': [custom_stop_words],\n",
    "    'cvec__lowercase': [True],\n",
    "    'cvec__ngram_range': [(1,2), (2,3)],\n",
    "    'bag__base_estimator': [None, KNeighborsClassifier(n_neighbors=15)]\n",
    "}\n",
    "\n",
    "gs4 = GridSearchCVProgressBar(pipe, params, cv = 3, verbose = 1)\n",
    "\n",
    "gs4.fit(X_train, y_train);"
   ]
  },
  {
   "cell_type": "code",
   "execution_count": 205,
   "metadata": {},
   "outputs": [
    {
     "name": "stdout",
     "output_type": "stream",
     "text": [
      "Train Accuracy: 0.9394141145139814\n",
      "Test Accuracy: 0.3712574850299401\n",
      "\n"
     ]
    },
    {
     "data": {
      "image/png": "[encoded data removed]",
      "text/plain": [
       "<Figure size 432x288 with 2 Axes>"
      ]
     },
     "metadata": {},
     "output_type": "display_data"
    },
    {
     "data": {
      "image/png": "[encoded data removed]",
      "text/plain": [
       "<Figure size 432x288 with 2 Axes>"
      ]
     },
     "metadata": {},
     "output_type": "display_data"
    },
    {
     "name": "stdout",
     "output_type": "stream",
     "text": [
      "max features: 1500\n",
      "ngram range: (1, 2)\n",
      "estimator: None\n"
     ]
    }
   ],
   "source": [
    "model_metrics(gs4)\n",
    "print(\"max features:\", gs4.best_params_.get('cvec__max_features'))\n",
    "print(\"ngram range:\", gs4.best_params_.get('cvec__ngram_range'))\n",
    "print(\"estimator:\", gs4.best_params_.get('bag__base_estimator'))"
   ]
  },
  {
   "cell_type": "markdown",
   "metadata": {},
   "source": [
    "## Random Forests?"
   ]
  },
  {
   "cell_type": "code",
   "execution_count": 206,
   "metadata": {},
   "outputs": [
    {
     "name": "stdout",
     "output_type": "stream",
     "text": [
      "Fitting 3 folds for each of 144 candidates, totalling 432 fits\n",
      "\r",
      "[                                        ] 0% | 0.00 sec | GridSearchCV "
     ]
    },
    {
     "name": "stderr",
     "output_type": "stream",
     "text": [
      "[ParallelProgressBar(n_jobs=1)]: Using backend SequentialBackend with 1 concurrent workers.\n"
     ]
    },
    {
     "name": "stdout",
     "output_type": "stream",
     "text": [
      "[........................................] 100% | 308.01 sec | GridSearchCV \n"
     ]
    },
    {
     "name": "stderr",
     "output_type": "stream",
     "text": [
      "[ParallelProgressBar(n_jobs=1)]: Done 432 out of 432 | elapsed:  5.1min finished\n"
     ]
    }
   ],
   "source": [
    "pipe = Pipeline([\n",
    "    ('cvec', CountVectorizer()),\n",
    "    ('rf', RandomForestClassifier())\n",
    "])\n",
    "\n",
    "\n",
    "params = {\n",
    "    'cvec__max_features': [200,500,1000,1500],\n",
    "    'cvec__tokenizer': [LemmaTokenizer()],\n",
    "    'cvec__stop_words': [custom_stop_words],\n",
    "    'cvec__lowercase': [True],\n",
    "    'cvec__ngram_range': [(1,2), (2,3)],\n",
    "    'rf__n_estimators': [10,50,100],\n",
    "    'rf__max_depth': [4,5,6],\n",
    "    'rf__max_features': ['auto', 20] \n",
    "}\n",
    "\n",
    "\n",
    "gs5 = GridSearchCVProgressBar(pipe, params, cv = 3, verbose = 1)\n",
    "\n",
    "gs5.fit(X_train, y_train);"
   ]
  },
  {
   "cell_type": "code",
   "execution_count": 207,
   "metadata": {},
   "outputs": [
    {
     "name": "stdout",
     "output_type": "stream",
     "text": [
      "Train Accuracy: 0.4960053262316911\n",
      "Test Accuracy: 0.39520958083832336\n",
      "\n"
     ]
    },
    {
     "data": {
      "image/png": "[encoded data removed]",
      "text/plain": [
       "<Figure size 432x288 with 2 Axes>"
      ]
     },
     "metadata": {},
     "output_type": "display_data"
    },
    {
     "data": {
      "image/png": "[encoded data removed]",
      "text/plain": [
       "<Figure size 432x288 with 2 Axes>"
      ]
     },
     "metadata": {},
     "output_type": "display_data"
    },
    {
     "name": "stdout",
     "output_type": "stream",
     "text": [
      "max features: 1500\n",
      "ngram range: (1, 2)\n",
      "n_estimators: None\n",
      "max tree depth: None\n",
      "max features: None\n"
     ]
    }
   ],
   "source": [
    "model_metrics(gs5)\n",
    "print(\"max features:\", gs4.best_params_.get('cvec__max_features'))\n",
    "print(\"ngram range:\", gs4.best_params_.get('cvec__ngram_range'))\n",
    "print(\"n_estimators:\", gs4.best_params_.get('rf__n_estimators'))\n",
    "print(\"max tree depth:\", gs4.best_params_.get('rf__max_depth'))\n",
    "print(\"max features:\", gs4.best_params_.get('rf__max_features'))\n"
   ]
  },
  {
   "cell_type": "markdown",
   "metadata": {},
   "source": [
    "# MultinomialNB with the other data!"
   ]
  },
  {
   "cell_type": "markdown",
   "metadata": {},
   "source": [
    "MAJOR IDEA: \n",
    "    GET THE TOP OH 1500 TEXT FEATURES FROM THE CVEC, APPEND *THAT* TO THE DATA FRAME, AND DO ANOTHER PIPELINE WITH A STANDARD SCALAR INSTEAD OF THE CVEC THING. \n",
    "    \n",
    "    "
   ]
  },
  {
   "cell_type": "markdown",
   "metadata": {},
   "source": [
    "Our best model was the gs3. We will fit this model to vocabulary, get the data, append, and run another model to try to optimize further!"
   ]
  },
  {
   "cell_type": "code",
   "execution_count": 305,
   "metadata": {},
   "outputs": [
    {
     "data": {
      "text/plain": [
       "{'lr__class_weight': None,\n",
       " 'lr__penalty': 'l2',\n",
       " 'tvec__lowercase': True,\n",
       " 'tvec__max_features': 500,\n",
       " 'tvec__ngram_range': (1, 2),\n",
       " 'tvec__stop_words': ['i',\n",
       "  'me',\n",
       "  'my',\n",
       "  'myself',\n",
       "  'we',\n",
       "  'our',\n",
       "  'ours',\n",
       "  'ourselves',\n",
       "  'you',\n",
       "  'yourself',\n",
       "  'yourselves',\n",
       "  'he',\n",
       "  'him',\n",
       "  'his',\n",
       "  'himself',\n",
       "  'she',\n",
       "  'her',\n",
       "  'hers',\n",
       "  'herself',\n",
       "  'it',\n",
       "  'its',\n",
       "  'what',\n",
       "  'which',\n",
       "  'who',\n",
       "  'whom',\n",
       "  'these',\n",
       "  'those',\n",
       "  'am',\n",
       "  'is',\n",
       "  'are',\n",
       "  'was',\n",
       "  'were',\n",
       "  'be',\n",
       "  'been',\n",
       "  'being',\n",
       "  'have',\n",
       "  'has',\n",
       "  'had',\n",
       "  'having',\n",
       "  'do',\n",
       "  'does',\n",
       "  'did',\n",
       "  'doing',\n",
       "  'the',\n",
       "  'but',\n",
       "  'because',\n",
       "  'as',\n",
       "  'until',\n",
       "  'while',\n",
       "  'of',\n",
       "  'at',\n",
       "  'by',\n",
       "  'iffor',\n",
       "  'with',\n",
       "  'about',\n",
       "  'against',\n",
       "  'between',\n",
       "  'into',\n",
       "  'through',\n",
       "  'after',\n",
       "  'above',\n",
       "  'below',\n",
       "  'to',\n",
       "  'from',\n",
       "  'up',\n",
       "  'down',\n",
       "  'in',\n",
       "  'out',\n",
       "  'on',\n",
       "  'off',\n",
       "  'over',\n",
       "  'under',\n",
       "  'again',\n",
       "  'further',\n",
       "  'then',\n",
       "  'once',\n",
       "  'here',\n",
       "  'there',\n",
       "  'when',\n",
       "  'where',\n",
       "  'why',\n",
       "  'how',\n",
       "  'all',\n",
       "  'any',\n",
       "  'both',\n",
       "  'each',\n",
       "  'few',\n",
       "  'more',\n",
       "  'most',\n",
       "  'other',\n",
       "  'some',\n",
       "  'such',\n",
       "  'no',\n",
       "  'nor',\n",
       "  'not',\n",
       "  'only',\n",
       "  'own',\n",
       "  'same',\n",
       "  'so',\n",
       "  'than',\n",
       "  'too',\n",
       "  'very',\n",
       "  's',\n",
       "  't',\n",
       "  'can',\n",
       "  'will',\n",
       "  'just',\n",
       "  'don',\n",
       "  'should',\n",
       "  'now'],\n",
       " 'tvec__tokenizer': <__main__.LemmaTokenizer at 0x14ba12780>}"
      ]
     },
     "execution_count": 305,
     "metadata": {},
     "output_type": "execute_result"
    }
   ],
   "source": [
    "gs2.best_params_\n",
    "# but calling .get_feature_names() raises an error - we need to fit transform it!"
   ]
  },
  {
   "cell_type": "code",
   "execution_count": 301,
   "metadata": {},
   "outputs": [],
   "source": [
    "tvec = TfidfVectorizer(lowercase = True,\n",
    "                      #max_features = 500,\n",
    "                      ngram_range = (1,2),\n",
    "                      stop_words = custom_stop_words,\n",
    "                      tokenizer = LemmaTokenizer())\n",
    "best_500 = tvec.fit_transform(df['text'])\n",
    "best_500_df = pd.DataFrame(best_500.toarray(), columns = tvec.get_feature_names())\n",
    "best_500_df.set_index(df['rarity'], inplace=True)"
   ]
  },
  {
   "cell_type": "code",
   "execution_count": 302,
   "metadata": {},
   "outputs": [],
   "source": [
    "X_train_fitted = tvec.fit_transform(X_train)"
   ]
  },
  {
   "cell_type": "code",
   "execution_count": 303,
   "metadata": {},
   "outputs": [
    {
     "data": {
      "text/plain": [
       "135"
      ]
     },
     "execution_count": 303,
     "metadata": {},
     "output_type": "execute_result"
    }
   ],
   "source": [
    "len(tvec.get_feature_names())"
   ]
  },
  {
   "cell_type": "code",
   "execution_count": 304,
   "metadata": {},
   "outputs": [
    {
     "data": {
      "text/plain": [
       "['&',\n",
       " '& catacomb',\n",
       " \"'s\",\n",
       " \"'s rumble\",\n",
       " 'armor',\n",
       " 'attack',\n",
       " 'boomsday',\n",
       " 'boomsday project',\n",
       " 'cardset_basic',\n",
       " 'cardset_blackrock',\n",
       " 'cardset_blackrock mountain',\n",
       " 'cardset_classic',\n",
       " 'cardset_goblins',\n",
       " 'cardset_goblins v',\n",
       " 'cardset_hall',\n",
       " 'cardset_hall fame',\n",
       " 'cardset_journey',\n",
       " \"cardset_journey un'goro\",\n",
       " 'cardset_knights',\n",
       " 'cardset_knights frozen',\n",
       " 'cardset_kobolds',\n",
       " 'cardset_kobolds &',\n",
       " 'cardset_mean',\n",
       " 'cardset_mean street',\n",
       " 'cardset_naxxramas',\n",
       " 'cardset_one',\n",
       " 'cardset_one night',\n",
       " 'cardset_rastakhan',\n",
       " \"cardset_rastakhan 's\",\n",
       " 'cardset_rise',\n",
       " 'cardset_rise shadow',\n",
       " 'cardset_the',\n",
       " 'cardset_the boomsday',\n",
       " 'cardset_the grand',\n",
       " 'cardset_the league',\n",
       " 'cardset_the witchwood',\n",
       " 'cardset_whispers',\n",
       " 'cardset_whispers old',\n",
       " 'catacomb',\n",
       " 'const',\n",
       " 'cost',\n",
       " 'damage',\n",
       " 'durability',\n",
       " 'explorer',\n",
       " 'faction_alliance',\n",
       " 'faction_horde',\n",
       " 'faction_neutral',\n",
       " 'fame',\n",
       " 'frozen',\n",
       " 'frozen throne',\n",
       " 'gadgetzan',\n",
       " 'gnome',\n",
       " 'god',\n",
       " 'golem',\n",
       " 'grand',\n",
       " 'grand tournament',\n",
       " 'health',\n",
       " 'karazhan',\n",
       " 'league',\n",
       " 'league explorer',\n",
       " 'mech_adapt',\n",
       " 'mech_adjacentbuff',\n",
       " 'mech_affectedbyspellpower',\n",
       " 'mech_aura',\n",
       " 'mech_battlecry',\n",
       " 'mech_charge',\n",
       " 'mech_combo',\n",
       " 'mech_deathrattle',\n",
       " 'mech_discover',\n",
       " 'mech_divine',\n",
       " 'mech_divine shield',\n",
       " 'mech_echo',\n",
       " 'mech_freeze',\n",
       " 'mech_immunetospellpower',\n",
       " 'mech_inspire',\n",
       " 'mech_invisibledeathrattle',\n",
       " 'mech_jade',\n",
       " 'mech_jade golem',\n",
       " 'mech_lifesteal',\n",
       " 'mech_magnetic',\n",
       " 'mech_overkill',\n",
       " 'mech_overload',\n",
       " 'mech_poisonous',\n",
       " 'mech_quest',\n",
       " 'mech_recruit',\n",
       " 'mech_rush',\n",
       " 'mech_secret',\n",
       " 'mech_silence',\n",
       " 'mech_spell',\n",
       " 'mech_spell damage',\n",
       " 'mech_stealth',\n",
       " 'mech_taunt',\n",
       " 'mech_twinspell',\n",
       " 'mech_windfury',\n",
       " 'mountain',\n",
       " 'night',\n",
       " 'night karazhan',\n",
       " 'old',\n",
       " 'old god',\n",
       " 'playerclass_druid',\n",
       " 'playerclass_hunter',\n",
       " 'playerclass_mage',\n",
       " 'playerclass_neutral',\n",
       " 'playerclass_paladin',\n",
       " 'playerclass_priest',\n",
       " 'playerclass_rogue',\n",
       " 'playerclass_shaman',\n",
       " 'playerclass_warlock',\n",
       " 'playerclass_warrior',\n",
       " 'project',\n",
       " 'race_all',\n",
       " 'race_beast',\n",
       " 'race_demon',\n",
       " 'race_dragon',\n",
       " 'race_elemental',\n",
       " 'race_general',\n",
       " 'race_mech',\n",
       " 'race_murloc',\n",
       " 'race_pirate',\n",
       " 'race_totem',\n",
       " 'rumble',\n",
       " 'shadow',\n",
       " 'shield',\n",
       " 'street',\n",
       " 'street gadgetzan',\n",
       " 'throne',\n",
       " 'tournament',\n",
       " 'type_hero',\n",
       " 'type_minion',\n",
       " 'type_spell',\n",
       " 'type_weapon',\n",
       " \"un'goro\",\n",
       " 'v',\n",
       " 'v gnome',\n",
       " 'witchwood']"
      ]
     },
     "execution_count": 304,
     "metadata": {},
     "output_type": "execute_result"
    }
   ],
   "source": [
    "tvec.get_feature_names()"
   ]
  },
  {
   "cell_type": "code",
   "execution_count": null,
   "metadata": {},
   "outputs": [],
   "source": []
  },
  {
   "cell_type": "code",
   "execution_count": null,
   "metadata": {},
   "outputs": [],
   "source": [
    "X.reset_index(inplace = True)\n",
    "X.drop(columns = 'rarity', inplace = True)"
   ]
  },
  {
   "cell_type": "code",
   "execution_count": null,
   "metadata": {},
   "outputs": [],
   "source": [
    "X_all = df.join(X)"
   ]
  },
  {
   "cell_type": "code",
   "execution_count": null,
   "metadata": {},
   "outputs": [],
   "source": [
    "X_all.head()"
   ]
  },
  {
   "cell_type": "code",
   "execution_count": 46,
   "metadata": {},
   "outputs": [
    {
     "data": {
      "text/html": [
       "<div>\n",
       "<style scoped>\n",
       "    .dataframe tbody tr th:only-of-type {\n",
       "        vertical-align: middle;\n",
       "    }\n",
       "\n",
       "    .dataframe tbody tr th {\n",
       "        vertical-align: top;\n",
       "    }\n",
       "\n",
       "    .dataframe thead th {\n",
       "        text-align: right;\n",
       "    }\n",
       "</style>\n",
       "<table border=\"1\" class=\"dataframe\">\n",
       "  <thead>\n",
       "    <tr style=\"text-align: right;\">\n",
       "      <th></th>\n",
       "      <th>0 battlecry discover</th>\n",
       "      <th>0 battlecry discover a</th>\n",
       "      <th>0 battlecry discover a spell</th>\n",
       "      <th>0 if your</th>\n",
       "      <th>0 if your hero</th>\n",
       "      <th>0 if your hero wa</th>\n",
       "      <th>0 if youre</th>\n",
       "      <th>0 if youre holding</th>\n",
       "      <th>0 if youre holding a</th>\n",
       "      <th>0 if youve</th>\n",
       "      <th>...</th>\n",
       "      <th>youve played thisgame</th>\n",
       "      <th>youve restored 10</th>\n",
       "      <th>youve restored 10 health</th>\n",
       "      <th>youve restored 10 health this</th>\n",
       "      <th>youve restored 5</th>\n",
       "      <th>youve restored 5 health</th>\n",
       "      <th>youve restored 5 health this</th>\n",
       "      <th>youve spent spell</th>\n",
       "      <th>youve summoned this</th>\n",
       "      <th>youve summoned this game</th>\n",
       "    </tr>\n",
       "    <tr>\n",
       "      <th>rarity</th>\n",
       "      <th></th>\n",
       "      <th></th>\n",
       "      <th></th>\n",
       "      <th></th>\n",
       "      <th></th>\n",
       "      <th></th>\n",
       "      <th></th>\n",
       "      <th></th>\n",
       "      <th></th>\n",
       "      <th></th>\n",
       "      <th></th>\n",
       "      <th></th>\n",
       "      <th></th>\n",
       "      <th></th>\n",
       "      <th></th>\n",
       "      <th></th>\n",
       "      <th></th>\n",
       "      <th></th>\n",
       "      <th></th>\n",
       "      <th></th>\n",
       "      <th></th>\n",
       "    </tr>\n",
       "  </thead>\n",
       "  <tbody>\n",
       "    <tr>\n",
       "      <th>Free</th>\n",
       "      <td>0</td>\n",
       "      <td>0</td>\n",
       "      <td>0</td>\n",
       "      <td>0</td>\n",
       "      <td>0</td>\n",
       "      <td>0</td>\n",
       "      <td>0</td>\n",
       "      <td>0</td>\n",
       "      <td>0</td>\n",
       "      <td>0</td>\n",
       "      <td>...</td>\n",
       "      <td>0</td>\n",
       "      <td>0</td>\n",
       "      <td>0</td>\n",
       "      <td>0</td>\n",
       "      <td>0</td>\n",
       "      <td>0</td>\n",
       "      <td>0</td>\n",
       "      <td>0</td>\n",
       "      <td>0</td>\n",
       "      <td>0</td>\n",
       "    </tr>\n",
       "    <tr>\n",
       "      <th>Free</th>\n",
       "      <td>0</td>\n",
       "      <td>0</td>\n",
       "      <td>0</td>\n",
       "      <td>0</td>\n",
       "      <td>0</td>\n",
       "      <td>0</td>\n",
       "      <td>0</td>\n",
       "      <td>0</td>\n",
       "      <td>0</td>\n",
       "      <td>0</td>\n",
       "      <td>...</td>\n",
       "      <td>0</td>\n",
       "      <td>0</td>\n",
       "      <td>0</td>\n",
       "      <td>0</td>\n",
       "      <td>0</td>\n",
       "      <td>0</td>\n",
       "      <td>0</td>\n",
       "      <td>0</td>\n",
       "      <td>0</td>\n",
       "      <td>0</td>\n",
       "    </tr>\n",
       "    <tr>\n",
       "      <th>Free</th>\n",
       "      <td>0</td>\n",
       "      <td>0</td>\n",
       "      <td>0</td>\n",
       "      <td>0</td>\n",
       "      <td>0</td>\n",
       "      <td>0</td>\n",
       "      <td>0</td>\n",
       "      <td>0</td>\n",
       "      <td>0</td>\n",
       "      <td>0</td>\n",
       "      <td>...</td>\n",
       "      <td>0</td>\n",
       "      <td>0</td>\n",
       "      <td>0</td>\n",
       "      <td>0</td>\n",
       "      <td>0</td>\n",
       "      <td>0</td>\n",
       "      <td>0</td>\n",
       "      <td>0</td>\n",
       "      <td>0</td>\n",
       "      <td>0</td>\n",
       "    </tr>\n",
       "    <tr>\n",
       "      <th>Free</th>\n",
       "      <td>0</td>\n",
       "      <td>0</td>\n",
       "      <td>0</td>\n",
       "      <td>0</td>\n",
       "      <td>0</td>\n",
       "      <td>0</td>\n",
       "      <td>0</td>\n",
       "      <td>0</td>\n",
       "      <td>0</td>\n",
       "      <td>0</td>\n",
       "      <td>...</td>\n",
       "      <td>0</td>\n",
       "      <td>0</td>\n",
       "      <td>0</td>\n",
       "      <td>0</td>\n",
       "      <td>0</td>\n",
       "      <td>0</td>\n",
       "      <td>0</td>\n",
       "      <td>0</td>\n",
       "      <td>0</td>\n",
       "      <td>0</td>\n",
       "    </tr>\n",
       "    <tr>\n",
       "      <th>Free</th>\n",
       "      <td>0</td>\n",
       "      <td>0</td>\n",
       "      <td>0</td>\n",
       "      <td>0</td>\n",
       "      <td>0</td>\n",
       "      <td>0</td>\n",
       "      <td>0</td>\n",
       "      <td>0</td>\n",
       "      <td>0</td>\n",
       "      <td>0</td>\n",
       "      <td>...</td>\n",
       "      <td>0</td>\n",
       "      <td>0</td>\n",
       "      <td>0</td>\n",
       "      <td>0</td>\n",
       "      <td>0</td>\n",
       "      <td>0</td>\n",
       "      <td>0</td>\n",
       "      <td>0</td>\n",
       "      <td>0</td>\n",
       "      <td>0</td>\n",
       "    </tr>\n",
       "  </tbody>\n",
       "</table>\n",
       "<p>5 rows × 17572 columns</p>\n",
       "</div>"
      ],
      "text/plain": [
       "        0 battlecry discover  0 battlecry discover a  \\\n",
       "rarity                                                 \n",
       "Free                       0                       0   \n",
       "Free                       0                       0   \n",
       "Free                       0                       0   \n",
       "Free                       0                       0   \n",
       "Free                       0                       0   \n",
       "\n",
       "        0 battlecry discover a spell  0 if your  0 if your hero  \\\n",
       "rarity                                                            \n",
       "Free                               0          0               0   \n",
       "Free                               0          0               0   \n",
       "Free                               0          0               0   \n",
       "Free                               0          0               0   \n",
       "Free                               0          0               0   \n",
       "\n",
       "        0 if your hero wa  0 if youre  0 if youre holding  \\\n",
       "rarity                                                      \n",
       "Free                    0           0                   0   \n",
       "Free                    0           0                   0   \n",
       "Free                    0           0                   0   \n",
       "Free                    0           0                   0   \n",
       "Free                    0           0                   0   \n",
       "\n",
       "        0 if youre holding a  0 if youve            ...             \\\n",
       "rarity                                              ...              \n",
       "Free                       0           0            ...              \n",
       "Free                       0           0            ...              \n",
       "Free                       0           0            ...              \n",
       "Free                       0           0            ...              \n",
       "Free                       0           0            ...              \n",
       "\n",
       "        youve played thisgame  youve restored 10  youve restored 10 health  \\\n",
       "rarity                                                                       \n",
       "Free                        0                  0                         0   \n",
       "Free                        0                  0                         0   \n",
       "Free                        0                  0                         0   \n",
       "Free                        0                  0                         0   \n",
       "Free                        0                  0                         0   \n",
       "\n",
       "        youve restored 10 health this  youve restored 5  \\\n",
       "rarity                                                    \n",
       "Free                                0                 0   \n",
       "Free                                0                 0   \n",
       "Free                                0                 0   \n",
       "Free                                0                 0   \n",
       "Free                                0                 0   \n",
       "\n",
       "        youve restored 5 health  youve restored 5 health this  \\\n",
       "rarity                                                          \n",
       "Free                          0                             0   \n",
       "Free                          0                             0   \n",
       "Free                          0                             0   \n",
       "Free                          0                             0   \n",
       "Free                          0                             0   \n",
       "\n",
       "        youve spent spell  youve summoned this  youve summoned this game  \n",
       "rarity                                                                    \n",
       "Free                    0                    0                         0  \n",
       "Free                    0                    0                         0  \n",
       "Free                    0                    0                         0  \n",
       "Free                    0                    0                         0  \n",
       "Free                    0                    0                         0  \n",
       "\n",
       "[5 rows x 17572 columns]"
      ]
     },
     "execution_count": 46,
     "metadata": {},
     "output_type": "execute_result"
    }
   ],
   "source": [
    "#concat the data frame\n",
    "X.head()"
   ]
  },
  {
   "cell_type": "code",
   "execution_count": null,
   "metadata": {},
   "outputs": [],
   "source": [
    "numerical_columns = X_all._get_numeric_data().columns\n",
    "features = [c for c in numerical_columns if c != 'rarity_value']\n",
    "X = X_all[features]\n",
    "y = X_all['rarity_value']\n"
   ]
  },
  {
   "cell_type": "code",
   "execution_count": null,
   "metadata": {},
   "outputs": [],
   "source": [
    "X_train, X_test, y_train, y_test = train_test_split(X, y, test_size = 0.3, random_state = 42)"
   ]
  },
  {
   "cell_type": "markdown",
   "metadata": {},
   "source": [
    "## One More LogReg Attempt"
   ]
  },
  {
   "cell_type": "code",
   "execution_count": null,
   "metadata": {},
   "outputs": [],
   "source": []
  },
  {
   "cell_type": "code",
   "execution_count": null,
   "metadata": {},
   "outputs": [],
   "source": []
  },
  {
   "cell_type": "code",
   "execution_count": null,
   "metadata": {},
   "outputs": [],
   "source": [
    "df_deck_archetypes = pd.read_csv('decklist_df.csv')"
   ]
  },
  {
   "cell_type": "code",
   "execution_count": null,
   "metadata": {},
   "outputs": [],
   "source": [
    "df_deck_archetypes.head()"
   ]
  },
  {
   "cell_type": "code",
   "execution_count": null,
   "metadata": {},
   "outputs": [],
   "source": [
    "df_deck_archetypes.stack().value_counts()"
   ]
  },
  {
   "cell_type": "markdown",
   "metadata": {},
   "source": [
    "So of our 23 decks, each containing 30 cards, we have 283 unique cards. "
   ]
  },
  {
   "cell_type": "markdown",
   "metadata": {},
   "source": [
    "Normalize this! We need to definitely normalize using the CLASS of each card, and the following:\n",
    "\n",
    "1 Archetypes of Druid: ['Token Druid']   \n",
    "5 Archetypes of Hunter: ['Deathrattle Hunter' 'Mech Hunter' 'Midrange Hunter' 'Secret Hunter' 'Spell Hunter']   \n",
    "2 Archetypes of Mage: ['Burn Mage' 'Khadgar Mage']   \n",
    "3 Archetypes of Paladin: ['Control Paladin' 'Mech Paladin' 'Secret Paladin']   \n",
    "2 Archetypes of Priest: ['Resurrect Priest' 'Silence Priest']   \n",
    "3 Archetypes of Rogue: ['Miracle Rogue' 'Tempo Rogue' 'Thief Rogue']   \n",
    "3 Archetypes of Shaman: ['Big Shaman' 'Murloc Shaman' 'Shudderwock Shaman']   \n",
    "2 Archetypes of Warlock: ['Handlock' 'Zoo Warlock']   \n",
    "4 Archetypes of Warrior: ['Big Warrior' 'Bomb Warrior' 'Control Warrior' 'Dragon Warrior']   \n"
   ]
  },
  {
   "cell_type": "code",
   "execution_count": null,
   "metadata": {},
   "outputs": [],
   "source": [
    "# sudo code\n",
    "df_deck_name_here = pd.DataFrame\n",
    "   columns = card_name, everything else from the card set dataframe.\n",
    "  "
   ]
  },
  {
   "cell_type": "code",
   "execution_count": null,
   "metadata": {},
   "outputs": [],
   "source": []
  },
  {
   "cell_type": "code",
   "execution_count": null,
   "metadata": {},
   "outputs": [],
   "source": []
  },
  {
   "cell_type": "code",
   "execution_count": null,
   "metadata": {},
   "outputs": [],
   "source": []
  },
  {
   "cell_type": "code",
   "execution_count": null,
   "metadata": {},
   "outputs": [],
   "source": []
  },
  {
   "cell_type": "code",
   "execution_count": null,
   "metadata": {},
   "outputs": [],
   "source": []
  },
  {
   "cell_type": "markdown",
   "metadata": {},
   "source": [
    "- make a model for spells, weapons, minions MASK!!! (predicting rarity)\n",
    "- add feature of word count on card\n",
    "\n",
    "\n",
    "- predict a decks winrate against each class\n",
    "   each row a single deck\n",
    "\n",
    "- \n",
    "\n",
    "\n",
    "log reg: probability of winning vs losing\n",
    "make dummies for every card of current standard format (kinda nlp), class winrate against other classes (\n",
    "get decklist into that, \n",
    "\n",
    "\n",
    "\n"
   ]
  },
  {
   "cell_type": "markdown",
   "metadata": {},
   "source": [
    "# Predict Rarity with Deck Win Data"
   ]
  },
  {
   "cell_type": "code",
   "execution_count": null,
   "metadata": {},
   "outputs": [],
   "source": []
  },
  {
   "cell_type": "code",
   "execution_count": null,
   "metadata": {},
   "outputs": [],
   "source": [
    "To build off in the "
   ]
  }
 ],
 "metadata": {
  "kernelspec": {
   "display_name": "Python 3",
   "language": "python",
   "name": "python3"
  },
  "language_info": {
   "codemirror_mode": {
    "name": "ipython",
    "version": 3
   },
   "file_extension": ".py",
   "mimetype": "text/x-python",
   "name": "python",
   "nbconvert_exporter": "python",
   "pygments_lexer": "ipython3",
   "version": "3.6.5"
  }
 },
 "nbformat": 4,
 "nbformat_minor": 2
}
